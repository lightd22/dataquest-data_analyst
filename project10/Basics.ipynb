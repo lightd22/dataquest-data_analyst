{
 "cells": [
  {
   "cell_type": "markdown",
   "metadata": {},
   "source": [
    "# Popular Data Science Questions on StackExchange\n",
    "\n",
    "## Introduction\n",
    "In this scenario, we'll pretend to be working for a company that creates data science content (e.g. books, online articles, videos, etc.). We're tasked with figuring out what is best content to write about. From prior experience, we know that given the lack of concrete instructions there's some leeway in what \"best\" means here.\n",
    "\n",
    "Passionate about helping people learn, we decide to scower the internet in search for the answer to the question \"What is it that people want to learn about in data science?\" (as opposed to determining the most profitable content, for instance). \n",
    "Thinking back to your experience when you first started learning programming, it occurs to you that if you wanted to figure out what programming content to write, you could consult Stack Overflow (a question and answer website about programming) and see what kind of content is more popular."
   ]
  },
  {
   "cell_type": "markdown",
   "metadata": {},
   "source": [
    "### Exploration\n",
    "\n",
    "Lets start by looking over the [Data Science StackExchange page](https://datascience.stackexchange.com/) home page.\n",
    "\n",
    "The 'Home' page is subdivided into 5 other sections: `Questions`, `Tags`, `Users,`, `Jobs`, and `Unanswered`.\n",
    "- Questions: A list of all recently submitted questions to the site.\n",
    "- Tags: A list of keywords/labels that categorize questions into groups of questions concerning similar topics. For example: `machine-learning`, `python`, `deep-learning`, etc.\n",
    "- Users: A sort of 'leaderboard' for question answerers active on the exchange.\n",
    "- Jobs: An external link to SO's job board.\n",
    "- Unanswered: A list of questions with no upvoted/accepted responses.\n",
    "\n",
    "Of these pages, `Tags` seem by far the most relevant to answering our questions. We can use this tagging system to help identify the types of questions asked and quantify which questions are asked most frequently on the site. Furthermore, given Stack Exchange's robust moderation by it's communities, we can be reasonably confident in the accuracy of these tags. \n",
    "\n",
    "[This page](https://datascience.stackexchange.com/help/on-topic) details types of questions suited for DSSE:\n",
    "1. Question should not be duplicated, either on DSSE or another exchange.\n",
    "2. Questions are most appropriate for DSSE if they are concerned with putting statistical concepts into practice, focus on implementation and (business) processes. \n",
    "3. Theoretical questions are better suited to other exchanges (specifically Cross Validated or Stack Overflow)\n",
    "4. Questions should be specific, as widely relevant as possible, and be as objective as possible.\n",
    "\n",
    "Other relevant exchanges are listed:\n",
    "- [Open Data](https://opendata.stackexchange.com/help/on-topic): Requests for data sets.\n",
    "- [AI](https://ai.stackexchange.com/help/on-topic): Theory and social impact of artifical intelligence.\n",
    "- [Computational Science](https://scicomp.stackexchange.com/help/on-topic): Computational methods in technical disciplines."
   ]
  },
  {
   "cell_type": "markdown",
   "metadata": {},
   "source": [
    "#### Information that is presented with a post\n",
    "Each post is divided into a `question`, followed by a list of potential `answers`. Common elements between the two include: `title`, `score`, `author`, `timestamp`, and `body`. However, questions also have a list of `tags` associated with them, as well as a list of `related` questions. On the other hand, a single answer may be flagged as `accepted`, indicating the \"best\" response (as selected by the question author)."
   ]
  },
  {
   "cell_type": "code",
   "execution_count": null,
   "metadata": {},
   "outputs": [],
   "source": []
  }
 ],
 "metadata": {
  "kernelspec": {
   "display_name": "Python 3",
   "language": "python",
   "name": "python3"
  },
  "language_info": {
   "codemirror_mode": {
    "name": "ipython",
    "version": 3
   },
   "file_extension": ".py",
   "mimetype": "text/x-python",
   "name": "python",
   "nbconvert_exporter": "python",
   "pygments_lexer": "ipython3",
   "version": "3.7.4"
  }
 },
 "nbformat": 4,
 "nbformat_minor": 2
}
