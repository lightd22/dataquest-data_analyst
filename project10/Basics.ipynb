{
 "cells": [
  {
   "cell_type": "markdown",
   "metadata": {},
   "source": [
    "# Popular Data Science Questions on StackExchange\n",
    "\n",
    "## Introduction\n",
    "In this scenario, we'll pretend to be working for a company that creates data science content (e.g. books, online articles, videos, etc.). We're tasked with figuring out what is best content to write about. From prior experience, we know that given the lack of concrete instructions there's some leeway in what \"best\" means here.\n",
    "\n",
    "Passionate about helping people learn, we decide to scower the internet in search for the answer to the question \"What is it that people want to learn about in data science?\" (as opposed to determining the most profitable content, for instance). \n",
    "Thinking back to your experience when you first started learning programming, it occurs to you that if you wanted to figure out what programming content to write, you could consult Stack Overflow (a question and answer website about programming) and see what kind of content is more popular."
   ]
  },
  {
   "cell_type": "markdown",
   "metadata": {},
   "source": [
    "### Exploration\n",
    "\n",
    "Lets start by looking over the [Data Science StackExchange page](https://datascience.stackexchange.com/) home page.\n",
    "\n",
    "The 'Home' page is subdivided into 5 other sections: `Questions`, `Tags`, `Users,`, `Jobs`, and `Unanswered`.\n",
    "- Questions: A list of all recently submitted questions to the site.\n",
    "- Tags: A list of keywords/labels that categorize questions into groups of questions concerning similar topics. For example: `machine-learning`, `python`, `deep-learning`, etc.\n",
    "- Users: A sort of 'leaderboard' for question answerers active on the exchange.\n",
    "- Jobs: An external link to SO's job board.\n",
    "- Unanswered: A list of questions with no upvoted/accepted responses.\n",
    "\n",
    "Of these pages, `Tags` seem by far the most relevant to answering our questions. We can use this tagging system to help identify the types of questions asked and quantify which questions are asked most frequently on the site. Furthermore, given Stack Exchange's robust moderation by it's communities, we can be reasonably confident in the accuracy of these tags. \n",
    "\n",
    "[This page](https://datascience.stackexchange.com/help/on-topic) details types of questions suited for DSSE:\n",
    "1. Question should not be duplicated, either on DSSE or another exchange.\n",
    "2. Questions are most appropriate for DSSE if they are concerned with putting statistical concepts into practice, focus on implementation and (business) processes. \n",
    "3. Theoretical questions are better suited to other exchanges (specifically Cross Validated or Stack Overflow)\n",
    "4. Questions should be specific, as widely relevant as possible, and be as objective as possible.\n",
    "\n",
    "Other relevant exchanges are listed:\n",
    "- [Open Data](https://opendata.stackexchange.com/help/on-topic): Requests for data sets.\n",
    "- [AI](https://ai.stackexchange.com/help/on-topic): Theory and social impact of artifical intelligence.\n",
    "- [Computational Science](https://scicomp.stackexchange.com/help/on-topic): Computational methods in technical disciplines."
   ]
  },
  {
   "cell_type": "markdown",
   "metadata": {},
   "source": [
    "#### Information that is presented with a post\n",
    "Each post is divided into a `question`, followed by a list of potential `answers`. Common elements between the two include: `title`, `score`, `author`, `timestamp`, and `body`. However, questions also have a list of `tags` associated with them, as well as a list of `related` questions. On the other hand, a single answer may be flagged as `accepted`, indicating the \"best\" response (as selected by the question author).\n",
    "\n",
    "#### DSSE and the Stack Exchange Data Explorer\n",
    "Stack Exchange maintains an open source tool called the [Stack Exchange Data Explorer](https://data.stackexchange.com/help) which facilitates querying public-facing data hosted within the Stack Exchange network. This allows us to investigate some of the tables representing DSSE's data in order to better determine what types of questions are more popular. To boot, it even allows ad-hoc querying!\n",
    "\n",
    "Looking over the DB schema, a few tables catch our interest right away:\n",
    "1. `Posts`: \n",
    "    - `Id`: Unique identifier for post\n",
    "    - `PostTypeId`: type of this post (questions are posts with `PostTypeId = 1`)\n",
    "    - `CreationDate`: when the post was made\n",
    "    - `LastActivityDate`: a timestamp of when the post was most recently active\n",
    "    - `Score`: number of upvotes a post has recieved (indicating interest or popularity)\n",
    "    - `ViewCount`: another representation of popularity\n",
    "    - `FavoriteCount`: number of times the post was \"favorited\" (indicating interest)\n",
    "    - `AnswerCount`: number of answers submitted to the post (questions only)\n",
    "    - `Tags`: a list of tags associated with the post's content\n",
    "2. `Tags`:\n",
    "    - `TagName`: string label of tag\n",
    "    - `Count`: number of times the tag is used on DSSE\n",
    "3. `TagSynonyms`:\n",
    "    - `SourceTagName`: what the tag is aliased from\n",
    "    - `TargetTagName`: what the tag is aliased to\n",
    "    - `AutoRenameCount`: number of times the source tag has been auto-renamed to the target tag\n",
    "\n",
    "At first glance, it seemed like the `Tags` and `TagSynonymns` tables might be of interest, but they do not contain any historical information about each tag's usage-- meaning that they can only tell us about the popularity of each tag since the DSSE's inception. While still interesting in it's own right, this doesn't help us determine what topics are of interest on DSSE in the present (or at least recently).\n",
    "\n",
    "| Id | TagName | Count |\n",
    "|---|---|---|\n",
    "|2|machine-learning|7935|\n",
    "|46|python|4646|\n",
    "|81|neural-network|3328|\n",
    "|194|deep-learning|3237|\n",
    "|77|classification|2205|\n",
    "|324|keras|2077|\n",
    "|128|scikit-learn|1561|\n",
    "|321|tensorflow|1491|\n",
    "|47|nlp|1404|\n",
    "|24|r|1227|\n",
    "|72|time-series|1176|\n",
    "|61|dataset|1045|\n",
    "|157|regression|1037|\n",
    "|5|data-mining|1012|\n",
    "|15|clustering|1006|\n",
    "|557|cnn|982|\n",
    "|168|predictive-modeling|904|\n",
    "|64|pandas|897|\n",
    "|527|lstm|832|\n",
    "|27|statistics|755|\n",
    "\n",
    "Fortunately the `Posts` table is robust with many useful columns, in particular `Score`, `Tags`, and `CreationDate`. With some work we should be able to get an idea of what topics were relevant to any period of time-- including today!\n",
    "\n",
    "`PostTypeId` indentifies which of the 8 post types a given post belongs to:\n",
    "\n",
    "|Id|Name|\n",
    "|---|---|\n",
    "|1|Question|\n",
    "|2|Answer|\n",
    "|3|Wiki|\n",
    "|4|TagWikiExcerpt|\n",
    "|5|TagWiki|\n",
    "|6|ModeratorNomination|\n",
    "|7|WikiPlaceholder|\n",
    "|8|PrivilegeWiki|\n",
    "\n",
    "We can take a look at the distribution of post types with:\n",
    "```\n",
    "SELECT PostTypeId, COUNT(*) as n_posts\n",
    "  FROM posts\n",
    " GROUP BY PostTypeId;\n",
    "```\n",
    "|PostTypeId|n_posts|\n",
    "|---|---|\n",
    "|1|25322|\n",
    "|2|28006|\n",
    "|4|239|\n",
    "|5|239|\n",
    "|6|11|\n",
    "|7|1|\n",
    "\n",
    "This lets us know that we can focus our attention on `Question` and `Answer` posts without problems. Even if one of the other `PostTypes` happens to be disproportionately popular, it would certainly have to be an outlier-- and as a result not of relevance to our analysis."
   ]
  },
  {
   "cell_type": "markdown",
   "metadata": {},
   "source": [
    "### Obtaining the Data\n",
    "\n",
    "We can get the data we're interested in for 2019 from the `Posts`  table with the following query:\n",
    "\n",
    "```\n",
    "SELECT\n",
    "      Id,\n",
    "      PostTypeId,\n",
    "      CreationDate,\n",
    "      Score,\n",
    "      ViewCount,\n",
    "      FavoriteCount,\n",
    "      AnswerCount,\n",
    "      Tags\n",
    "  FROM Posts\n",
    " WHERE PostTypeId=1 AND YEAR(CreationDate)=2019;\n",
    "```\n",
    "\n",
    "The first few rows returned look like\n",
    "\n",
    "|Id|PostTypeId|CreationDate|Score|ViewCount|FavoriteCount|AnswerCount|Tags|\n",
    "|---|---|---|---|---|---|---|---|\n",
    "|58494|1|2019-09-01 07:35:22|1|17|2|1|<sampling><variance>|\n",
    "|58496|1|2019-09-01 07:49:28|1|48||0|<python><keras><scikit-learn><numpy><reshape>|\n",
    "|58498|1|2019-09-01 10:25:22|0|32||1|<linear-regression>|\n",
    "|58503|1|2019-09-01 12:27:43|0|12||0|<time-series><dataset><forecasting>|\n",
    "|58505|1|2019-09-01 15:17:11|0|12|1|0|<machine-learning><deep-learning><dataset>|\n",
    "|58506|1|2019-09-01 15:51:10|0|194||1|<machine-learning><deep-learning><keras><cross-validation><accuracy>|\n",
    "    \n",
    "The Data Explorer allows us to export these results and download them locally in CSV format."
   ]
  },
  {
   "cell_type": "markdown",
   "metadata": {},
   "source": [
    "### Early Data Exploration"
   ]
  },
  {
   "cell_type": "code",
   "execution_count": 48,
   "metadata": {},
   "outputs": [],
   "source": [
    "import pandas as pd\n",
    "import numpy as np\n",
    "import matplotlib.pyplot as plt\n",
    "import seaborn as sns\n",
    "\n",
    "%matplotlib inline"
   ]
  },
  {
   "cell_type": "code",
   "execution_count": 2,
   "metadata": {},
   "outputs": [
    {
     "name": "stdout",
     "output_type": "stream",
     "text": [
      "<class 'pandas.core.frame.DataFrame'>\n",
      "RangeIndex: 8839 entries, 0 to 8838\n",
      "Data columns (total 7 columns):\n",
      "Id               8839 non-null int64\n",
      "CreationDate     8839 non-null datetime64[ns]\n",
      "Score            8839 non-null int64\n",
      "ViewCount        8839 non-null int64\n",
      "Tags             8839 non-null object\n",
      "AnswerCount      8839 non-null int64\n",
      "FavoriteCount    1407 non-null float64\n",
      "dtypes: datetime64[ns](1), float64(1), int64(4), object(1)\n",
      "memory usage: 483.5+ KB\n"
     ]
    }
   ],
   "source": [
    "questions = pd.read_csv('2019_questions.csv', parse_dates=[\"CreationDate\"])\n",
    "questions.info()"
   ]
  },
  {
   "cell_type": "markdown",
   "metadata": {},
   "source": [
    "Right away we can tell that the `FavoriteCount` column is the only column missing values, and it's missing a whopping 88% of it's entries. However, we can reasonably guess that a missing value in this column indicates that the question is not present on any user's favorite list. As a result, we'll fill the `Null` values with zero. At the same time, we'll convert the data type for this column to a more accurate integer format.\n",
    "\n",
    "The `object` dtype for the `Tags` column suggests the data is being stored as strings, but we should confirm this."
   ]
  },
  {
   "cell_type": "code",
   "execution_count": 3,
   "metadata": {},
   "outputs": [
    {
     "name": "stdout",
     "output_type": "stream",
     "text": [
      "Unique data types of tag values: [<class 'str'>]\n",
      "A sample tag list: <machine-learning><data-mining>\n"
     ]
    }
   ],
   "source": [
    "print(\"Unique data types of tag values: {}\".format(questions[\"Tags\"].apply(lambda val: type(val)).unique()))\n",
    "print(\"A sample tag list: {}\".format(questions[\"Tags\"].iloc[0]))"
   ]
  },
  {
   "cell_type": "markdown",
   "metadata": {},
   "source": [
    "`Tags` are being stored as strings. From the example pulled we can also see that each post may have multiple tags associated with it. This is being represented by a list of tags delimited by sets of `<>` characters. This format is pretty unwieldy to analyze with standard string operations, so we'll need to come up with a solution to separate the tags."
   ]
  },
  {
   "cell_type": "markdown",
   "metadata": {},
   "source": [
    "### Data Cleaning"
   ]
  },
  {
   "cell_type": "code",
   "execution_count": 4,
   "metadata": {},
   "outputs": [],
   "source": [
    "questions[\"FavoriteCount\"] = questions[\"FavoriteCount\"].fillna(0).astype('int64')\n",
    "questions[\"Tags\"] = questions[\"Tags\"].str.replace('^<|>$','').str.split('><')"
   ]
  },
  {
   "cell_type": "code",
   "execution_count": 5,
   "metadata": {},
   "outputs": [
    {
     "name": "stdout",
     "output_type": "stream",
     "text": [
      "<class 'pandas.core.frame.DataFrame'>\n",
      "RangeIndex: 8839 entries, 0 to 8838\n",
      "Data columns (total 7 columns):\n",
      "Id               8839 non-null int64\n",
      "CreationDate     8839 non-null datetime64[ns]\n",
      "Score            8839 non-null int64\n",
      "ViewCount        8839 non-null int64\n",
      "Tags             8839 non-null object\n",
      "AnswerCount      8839 non-null int64\n",
      "FavoriteCount    8839 non-null int64\n",
      "dtypes: datetime64[ns](1), int64(5), object(1)\n",
      "memory usage: 483.5+ KB\n"
     ]
    },
    {
     "data": {
      "text/html": [
       "<div>\n",
       "<style scoped>\n",
       "    .dataframe tbody tr th:only-of-type {\n",
       "        vertical-align: middle;\n",
       "    }\n",
       "\n",
       "    .dataframe tbody tr th {\n",
       "        vertical-align: top;\n",
       "    }\n",
       "\n",
       "    .dataframe thead th {\n",
       "        text-align: right;\n",
       "    }\n",
       "</style>\n",
       "<table border=\"1\" class=\"dataframe\">\n",
       "  <thead>\n",
       "    <tr style=\"text-align: right;\">\n",
       "      <th></th>\n",
       "      <th>Id</th>\n",
       "      <th>CreationDate</th>\n",
       "      <th>Score</th>\n",
       "      <th>ViewCount</th>\n",
       "      <th>Tags</th>\n",
       "      <th>AnswerCount</th>\n",
       "      <th>FavoriteCount</th>\n",
       "    </tr>\n",
       "  </thead>\n",
       "  <tbody>\n",
       "    <tr>\n",
       "      <td>8487</td>\n",
       "      <td>55359</td>\n",
       "      <td>2019-07-09 11:18:53</td>\n",
       "      <td>0</td>\n",
       "      <td>480</td>\n",
       "      <td>[label-smoothing, label-flipping]</td>\n",
       "      <td>1</td>\n",
       "      <td>1</td>\n",
       "    </tr>\n",
       "    <tr>\n",
       "      <td>5041</td>\n",
       "      <td>51422</td>\n",
       "      <td>2019-05-05 09:21:05</td>\n",
       "      <td>0</td>\n",
       "      <td>30</td>\n",
       "      <td>[machine-learning, svm]</td>\n",
       "      <td>1</td>\n",
       "      <td>0</td>\n",
       "    </tr>\n",
       "    <tr>\n",
       "      <td>995</td>\n",
       "      <td>45556</td>\n",
       "      <td>2019-02-14 05:47:46</td>\n",
       "      <td>1</td>\n",
       "      <td>30</td>\n",
       "      <td>[machine-learning, gradient-descent]</td>\n",
       "      <td>1</td>\n",
       "      <td>0</td>\n",
       "    </tr>\n",
       "    <tr>\n",
       "      <td>5013</td>\n",
       "      <td>62433</td>\n",
       "      <td>2019-10-30 19:04:23</td>\n",
       "      <td>0</td>\n",
       "      <td>27</td>\n",
       "      <td>[convnet, pytorch, gan, generative-models, gau...</td>\n",
       "      <td>1</td>\n",
       "      <td>0</td>\n",
       "    </tr>\n",
       "    <tr>\n",
       "      <td>4134</td>\n",
       "      <td>49610</td>\n",
       "      <td>2019-04-19 19:26:06</td>\n",
       "      <td>0</td>\n",
       "      <td>105</td>\n",
       "      <td>[scikit-learn, nlp, clustering, unsupervised-l...</td>\n",
       "      <td>0</td>\n",
       "      <td>0</td>\n",
       "    </tr>\n",
       "  </tbody>\n",
       "</table>\n",
       "</div>"
      ],
      "text/plain": [
       "         Id        CreationDate  Score  ViewCount  \\\n",
       "8487  55359 2019-07-09 11:18:53      0        480   \n",
       "5041  51422 2019-05-05 09:21:05      0         30   \n",
       "995   45556 2019-02-14 05:47:46      1         30   \n",
       "5013  62433 2019-10-30 19:04:23      0         27   \n",
       "4134  49610 2019-04-19 19:26:06      0        105   \n",
       "\n",
       "                                                   Tags  AnswerCount  \\\n",
       "8487                  [label-smoothing, label-flipping]            1   \n",
       "5041                            [machine-learning, svm]            1   \n",
       "995                [machine-learning, gradient-descent]            1   \n",
       "5013  [convnet, pytorch, gan, generative-models, gau...            1   \n",
       "4134  [scikit-learn, nlp, clustering, unsupervised-l...            0   \n",
       "\n",
       "      FavoriteCount  \n",
       "8487              1  \n",
       "5041              0  \n",
       "995               0  \n",
       "5013              0  \n",
       "4134              0  "
      ]
     },
     "execution_count": 5,
     "metadata": {},
     "output_type": "execute_result"
    }
   ],
   "source": [
    "questions.info()\n",
    "questions.sample(5)"
   ]
  },
  {
   "cell_type": "markdown",
   "metadata": {},
   "source": [
    "### Most popular tags"
   ]
  },
  {
   "cell_type": "code",
   "execution_count": 29,
   "metadata": {},
   "outputs": [
    {
     "data": {
      "text/html": [
       "<div>\n",
       "<style scoped>\n",
       "    .dataframe tbody tr th:only-of-type {\n",
       "        vertical-align: middle;\n",
       "    }\n",
       "\n",
       "    .dataframe tbody tr th {\n",
       "        vertical-align: top;\n",
       "    }\n",
       "\n",
       "    .dataframe thead th {\n",
       "        text-align: right;\n",
       "    }\n",
       "</style>\n",
       "<table border=\"1\" class=\"dataframe\">\n",
       "  <thead>\n",
       "    <tr style=\"text-align: right;\">\n",
       "      <th></th>\n",
       "      <th>tag_count</th>\n",
       "      <th>view_count</th>\n",
       "    </tr>\n",
       "  </thead>\n",
       "  <tbody>\n",
       "    <tr>\n",
       "      <td>count</td>\n",
       "      <td>526.000000</td>\n",
       "      <td>526.000000</td>\n",
       "    </tr>\n",
       "    <tr>\n",
       "      <td>mean</td>\n",
       "      <td>50.646388</td>\n",
       "      <td>8981.285171</td>\n",
       "    </tr>\n",
       "    <tr>\n",
       "      <td>std</td>\n",
       "      <td>176.976222</td>\n",
       "      <td>36737.045709</td>\n",
       "    </tr>\n",
       "    <tr>\n",
       "      <td>min</td>\n",
       "      <td>1.000000</td>\n",
       "      <td>4.000000</td>\n",
       "    </tr>\n",
       "    <tr>\n",
       "      <td>25%</td>\n",
       "      <td>3.000000</td>\n",
       "      <td>153.500000</td>\n",
       "    </tr>\n",
       "    <tr>\n",
       "      <td>50%</td>\n",
       "      <td>9.000000</td>\n",
       "      <td>846.000000</td>\n",
       "    </tr>\n",
       "    <tr>\n",
       "      <td>75%</td>\n",
       "      <td>33.500000</td>\n",
       "      <td>4996.000000</td>\n",
       "    </tr>\n",
       "    <tr>\n",
       "      <td>max</td>\n",
       "      <td>2693.000000</td>\n",
       "      <td>537585.000000</td>\n",
       "    </tr>\n",
       "  </tbody>\n",
       "</table>\n",
       "</div>"
      ],
      "text/plain": [
       "         tag_count     view_count\n",
       "count   526.000000     526.000000\n",
       "mean     50.646388    8981.285171\n",
       "std     176.976222   36737.045709\n",
       "min       1.000000       4.000000\n",
       "25%       3.000000     153.500000\n",
       "50%       9.000000     846.000000\n",
       "75%      33.500000    4996.000000\n",
       "max    2693.000000  537585.000000"
      ]
     },
     "execution_count": 29,
     "metadata": {},
     "output_type": "execute_result"
    }
   ],
   "source": [
    "tag_count = dict()\n",
    "view_count = dict()\n",
    "\n",
    "def tags_and_views(row):\n",
    "    \"\"\"\n",
    "    Processes and counts number of times a tag is used for posts and the number of times those tags are viewed.\n",
    "    \"\"\"\n",
    "    for tag in row[\"Tags\"]:\n",
    "        tag_count[tag] = 1 if not tag_count.get(tag,0) else tag_count[tag]+1\n",
    "        view_count[tag] = row[\"ViewCount\"] if not view_count.get(tag,0) else view_count[tag]+row[\"ViewCount\"]\n",
    "        \n",
    "    return None\n",
    "\n",
    "_ = questions.apply(tags_and_views, axis=1)\n",
    "tag_info = pd.DataFrame({'tag_count':tag_count, 'view_count':view_count})\n",
    "tag_info.describe()"
   ]
  },
  {
   "cell_type": "code",
   "execution_count": 39,
   "metadata": {},
   "outputs": [
    {
     "data": {
      "text/plain": [
       "<matplotlib.axes._subplots.AxesSubplot at 0x256cf8b2688>"
      ]
     },
     "execution_count": 39,
     "metadata": {},
     "output_type": "execute_result"
    },
    {
     "data": {
      "image/png": "[encoded data removed]",
      "text/plain": [
       "<Figure size 1152x576 with 1 Axes>"
      ]
     },
     "metadata": {
      "needs_background": "light"
     },
     "output_type": "display_data"
    }
   ],
   "source": [
    "tags_sorted = tag_info[\"tag_count\"].sort_values(ascending=False)\n",
    "tags_sorted.head(20).plot(kind=\"barh\", figsize=(16,8))"
   ]
  },
  {
   "cell_type": "code",
   "execution_count": 40,
   "metadata": {},
   "outputs": [
    {
     "data": {
      "text/plain": [
       "<matplotlib.axes._subplots.AxesSubplot at 0x256d0ce7b48>"
      ]
     },
     "execution_count": 40,
     "metadata": {},
     "output_type": "execute_result"
    },
    {
     "data": {
      "image/png": "[encoded data removed]",
      "text/plain": [
       "<Figure size 1152x576 with 1 Axes>"
      ]
     },
     "metadata": {
      "needs_background": "light"
     },
     "output_type": "display_data"
    }
   ],
   "source": [
    "views_sorted = tag_info[\"view_count\"].sort_values(ascending=False)\n",
    "views_sorted.head(20).plot(kind=\"barh\", figsize=(16,8))"
   ]
  },
  {
   "cell_type": "markdown",
   "metadata": {},
   "source": [
    "Some of the tags used on the exchange are very broad or lack specificity (e.g. `python`, `machine-learning`, `dataframe`) which means they will be of little use in determining how to direct our content. Fortunately we do observe some more targeted tags like `deep-learning`, `classification`, or `time-series` which each refer to a specific subject matter we could elect to produce content about.\n"
   ]
  },
  {
   "cell_type": "code",
   "execution_count": 41,
   "metadata": {},
   "outputs": [],
   "source": [
    "common_tags = pd.merge(tags_sorted.head(20), views_sorted.head(20), how=\"left\", left_index=True, right_index=True)\n",
    "common_views = pd.merge(tags_sorted.head(20), views_sorted.head(20), how=\"right\", left_index=True, right_index=True)"
   ]
  },
  {
   "cell_type": "markdown",
   "metadata": {},
   "source": [
    "### Most common tag correlation heatmap"
   ]
  },
  {
   "cell_type": "code",
   "execution_count": 44,
   "metadata": {},
   "outputs": [],
   "source": [
    "top_tags = tags_sorted.head(20)\n",
    "associations = pd.DataFrame(data=0, index=tag_info.index, columns=tag_info.index)\n",
    "for tags in questions[\"Tags\"]:\n",
    "    associations.loc[tags, tags] += 1"
   ]
  },
  {
   "cell_type": "code",
   "execution_count": 53,
   "metadata": {},
   "outputs": [
    {
     "data": {
      "text/plain": [
       "<matplotlib.axes._subplots.AxesSubplot at 0x256d1cd7f08>"
      ]
     },
     "execution_count": 53,
     "metadata": {},
     "output_type": "execute_result"
    },
    {
     "data": {
      "image/png": "[encoded data removed]",
      "text/plain": [
       "<Figure size 864x576 with 2 Axes>"
      ]
     },
     "metadata": {
      "needs_background": "light"
     },
     "output_type": "display_data"
    }
   ],
   "source": [
    "top_tag_assoc = associations.loc[top_tags.index, top_tags.index]\n",
    "np.fill_diagonal(top_tag_assoc.values, 0) # set diagonal values to 0 to mitigate trivial auto-correlation\n",
    "plt.figure(figsize=(12,8))\n",
    "sns.heatmap(top_tag_assoc, cmap=\"Greens\", annot=False)"
   ]
  },
  {
   "cell_type": "markdown",
   "metadata": {},
   "source": [
    "From the heatmap we can determine that the most popular tags (here towards the top-left of the figure) are also most frequently presented together. Note, however, that this figure is not a true correlation matrix, and nor does not imply that these tags are necessarily related. However, they do give us some general insight from which to further investigate.\n",
    "\n",
    "In particular, amongst the top tags we know that `deep-learning`, `neural-network`, `keras`, and `tensorflow` are related because `keras` and `tensorflow` are both popular python frameworks for implementing `neural-network`s which themselves form the basic structure behind `deep-learning`. Thus we start to suspect that `deep-learning` might be a good topic for content production."
   ]
  },
  {
   "cell_type": "markdown",
   "metadata": {},
   "source": [
    "### Tracking `deep-learning` tags over time"
   ]
  },
  {
   "cell_type": "code",
   "execution_count": 57,
   "metadata": {},
   "outputs": [],
   "source": [
    "all_questions = pd.read_csv(\"all_questions.csv\", parse_dates=[\"CreationDate\"])\n",
    "all_questions[\"Tags\"] = all_questions[\"Tags\"].str.replace('^<|>$','').str.split('><')"
   ]
  },
  {
   "cell_type": "code",
   "execution_count": null,
   "metadata": {},
   "outputs": [],
   "source": []
  }
 ],
 "metadata": {
  "kernelspec": {
   "display_name": "Python 3",
   "language": "python",
   "name": "python3"
  },
  "language_info": {
   "codemirror_mode": {
    "name": "ipython",
    "version": 3
   },
   "file_extension": ".py",
   "mimetype": "text/x-python",
   "name": "python",
   "nbconvert_exporter": "python",
   "pygments_lexer": "ipython3",
   "version": "3.7.4"
  }
 },
 "nbformat": 4,
 "nbformat_minor": 2
}
