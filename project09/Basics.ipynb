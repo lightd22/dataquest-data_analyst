{
 "cells": [
  {
   "cell_type": "markdown",
   "metadata": {
    "collapsed": true
   },
   "source": [
    "# Answering Business Questions using SQL\n",
    "In this project, we're going to practice using our SQL skills to answer business questions. Our starting point is a ficticious company called `Chinook` which sells music to customers. As an analyst, we might be given access to a database with tables associated with employees, customers, tracks/albums, transactions, and more. We will simulate this with the local database `chinook.db` which has the following schema diagram:\n",
    "\n",
    "https://s3.amazonaws.com/dq-content/191/chinook-schema.svg\n",
    "\n",
    "Let's start by connecting Jupyter to `chinook.db` so we can start exploring:"
   ]
  },
  {
   "cell_type": "code",
   "execution_count": 1,
   "metadata": {},
   "outputs": [],
   "source": [
    "%%capture\n",
    "%load_ext sql\n",
    "%sql sqlite:///chinook.db"
   ]
  },
  {
   "cell_type": "code",
   "execution_count": 2,
   "metadata": {},
   "outputs": [],
   "source": [
    "# List of tables and views:"
   ]
  },
  {
   "cell_type": "code",
   "execution_count": 4,
   "metadata": {},
   "outputs": [
    {
     "name": "stdout",
     "output_type": "stream",
     "text": [
      " * sqlite:///chinook.db\n",
      "Done.\n"
     ]
    },
    {
     "data": {
      "text/html": [
       "<table>\n",
       "    <tr>\n",
       "        <th>name</th>\n",
       "        <th>type</th>\n",
       "    </tr>\n",
       "    <tr>\n",
       "        <td>album</td>\n",
       "        <td>table</td>\n",
       "    </tr>\n",
       "    <tr>\n",
       "        <td>artist</td>\n",
       "        <td>table</td>\n",
       "    </tr>\n",
       "    <tr>\n",
       "        <td>customer</td>\n",
       "        <td>table</td>\n",
       "    </tr>\n",
       "    <tr>\n",
       "        <td>employee</td>\n",
       "        <td>table</td>\n",
       "    </tr>\n",
       "    <tr>\n",
       "        <td>genre</td>\n",
       "        <td>table</td>\n",
       "    </tr>\n",
       "    <tr>\n",
       "        <td>invoice</td>\n",
       "        <td>table</td>\n",
       "    </tr>\n",
       "    <tr>\n",
       "        <td>invoice_line</td>\n",
       "        <td>table</td>\n",
       "    </tr>\n",
       "    <tr>\n",
       "        <td>media_type</td>\n",
       "        <td>table</td>\n",
       "    </tr>\n",
       "    <tr>\n",
       "        <td>playlist</td>\n",
       "        <td>table</td>\n",
       "    </tr>\n",
       "    <tr>\n",
       "        <td>playlist_track</td>\n",
       "        <td>table</td>\n",
       "    </tr>\n",
       "    <tr>\n",
       "        <td>track</td>\n",
       "        <td>table</td>\n",
       "    </tr>\n",
       "</table>"
      ],
      "text/plain": [
       "[('album', 'table'),\n",
       " ('artist', 'table'),\n",
       " ('customer', 'table'),\n",
       " ('employee', 'table'),\n",
       " ('genre', 'table'),\n",
       " ('invoice', 'table'),\n",
       " ('invoice_line', 'table'),\n",
       " ('media_type', 'table'),\n",
       " ('playlist', 'table'),\n",
       " ('playlist_track', 'table'),\n",
       " ('track', 'table')]"
      ]
     },
     "execution_count": 4,
     "metadata": {},
     "output_type": "execute_result"
    }
   ],
   "source": [
    "%%sql\n",
    "\n",
    "SELECT\n",
    "    name,\n",
    "    type\n",
    "FROM sqlite_master\n",
    "WHERE type IN (\"table\",\"view\");"
   ]
  },
  {
   "cell_type": "code",
   "execution_count": 10,
   "metadata": {},
   "outputs": [],
   "source": [
    "# Simple list of artists"
   ]
  },
  {
   "cell_type": "code",
   "execution_count": 9,
   "metadata": {},
   "outputs": [
    {
     "name": "stdout",
     "output_type": "stream",
     "text": [
      " * sqlite:///chinook.db\n",
      "Done.\n"
     ]
    },
    {
     "data": {
      "text/html": [
       "<table>\n",
       "    <tr>\n",
       "        <th>artist_id</th>\n",
       "        <th>name</th>\n",
       "    </tr>\n",
       "    <tr>\n",
       "        <td>1</td>\n",
       "        <td>AC/DC</td>\n",
       "    </tr>\n",
       "    <tr>\n",
       "        <td>2</td>\n",
       "        <td>Accept</td>\n",
       "    </tr>\n",
       "    <tr>\n",
       "        <td>3</td>\n",
       "        <td>Aerosmith</td>\n",
       "    </tr>\n",
       "    <tr>\n",
       "        <td>4</td>\n",
       "        <td>Alanis Morissette</td>\n",
       "    </tr>\n",
       "    <tr>\n",
       "        <td>5</td>\n",
       "        <td>Alice In Chains</td>\n",
       "    </tr>\n",
       "</table>"
      ],
      "text/plain": [
       "[(1, 'AC/DC'),\n",
       " (2, 'Accept'),\n",
       " (3, 'Aerosmith'),\n",
       " (4, 'Alanis Morissette'),\n",
       " (5, 'Alice In Chains')]"
      ]
     },
     "execution_count": 9,
     "metadata": {},
     "output_type": "execute_result"
    }
   ],
   "source": [
    "%%sql\n",
    "\n",
    "SELECT *\n",
    "  FROM artist\n",
    " LIMIT 5;"
   ]
  },
  {
   "cell_type": "markdown",
   "metadata": {},
   "source": [
    "## Selecting albums to purchase for Chinook \n",
    "Imagine that the Chinook store has just signed a deal with a new record label, and you've been tasked with selecting the first three albums that will be added to the store, from a list of four. All four albums are by artists that don't have any tracks in the store right now - we have the artist names, and the genre of music they produce:\n",
    "\n",
    "| Artist Name | Genre   |\n",
    "|------|------|\n",
    "|   Regal  | Hip-Hop |\n",
    "|   Red Tone | Punk |\n",
    "|   Meteor and the Girls | Pop |\n",
    "| Slim Jim Bites | Blues |\n",
    "\n",
    "Further, suppose that this label represents artists from the USA, and they have given Chinook some money to advertise the new albums in the USA, so we're interested in finding out which genres sell the best in the USA."
   ]
  },
  {
   "cell_type": "code",
   "execution_count": 22,
   "metadata": {},
   "outputs": [
    {
     "name": "stdout",
     "output_type": "stream",
     "text": [
      " * sqlite:///chinook.db\n",
      "Done.\n"
     ]
    },
    {
     "data": {
      "text/html": [
       "<table>\n",
       "    <tr>\n",
       "        <th>genre</th>\n",
       "        <th>tracks_sold</th>\n",
       "        <th>percentage_sold</th>\n",
       "    </tr>\n",
       "    <tr>\n",
       "        <td>Rock</td>\n",
       "        <td>561</td>\n",
       "        <td>0.5337773549000951</td>\n",
       "    </tr>\n",
       "    <tr>\n",
       "        <td>Alternative &amp; Punk</td>\n",
       "        <td>130</td>\n",
       "        <td>0.12369172216936251</td>\n",
       "    </tr>\n",
       "    <tr>\n",
       "        <td>Metal</td>\n",
       "        <td>124</td>\n",
       "        <td>0.11798287345385347</td>\n",
       "    </tr>\n",
       "    <tr>\n",
       "        <td>R&amp;B/Soul</td>\n",
       "        <td>53</td>\n",
       "        <td>0.05042816365366318</td>\n",
       "    </tr>\n",
       "    <tr>\n",
       "        <td>Blues</td>\n",
       "        <td>36</td>\n",
       "        <td>0.03425309229305423</td>\n",
       "    </tr>\n",
       "    <tr>\n",
       "        <td>Alternative</td>\n",
       "        <td>35</td>\n",
       "        <td>0.03330161750713606</td>\n",
       "    </tr>\n",
       "    <tr>\n",
       "        <td>Pop</td>\n",
       "        <td>22</td>\n",
       "        <td>0.02093244529019981</td>\n",
       "    </tr>\n",
       "    <tr>\n",
       "        <td>Latin</td>\n",
       "        <td>22</td>\n",
       "        <td>0.02093244529019981</td>\n",
       "    </tr>\n",
       "    <tr>\n",
       "        <td>Hip Hop/Rap</td>\n",
       "        <td>20</td>\n",
       "        <td>0.019029495718363463</td>\n",
       "    </tr>\n",
       "    <tr>\n",
       "        <td>Jazz</td>\n",
       "        <td>14</td>\n",
       "        <td>0.013320647002854425</td>\n",
       "    </tr>\n",
       "</table>"
      ],
      "text/plain": [
       "[('Rock', 561, 0.5337773549000951),\n",
       " ('Alternative & Punk', 130, 0.12369172216936251),\n",
       " ('Metal', 124, 0.11798287345385347),\n",
       " ('R&B/Soul', 53, 0.05042816365366318),\n",
       " ('Blues', 36, 0.03425309229305423),\n",
       " ('Alternative', 35, 0.03330161750713606),\n",
       " ('Pop', 22, 0.02093244529019981),\n",
       " ('Latin', 22, 0.02093244529019981),\n",
       " ('Hip Hop/Rap', 20, 0.019029495718363463),\n",
       " ('Jazz', 14, 0.013320647002854425)]"
      ]
     },
     "execution_count": 22,
     "metadata": {},
     "output_type": "execute_result"
    }
   ],
   "source": [
    "%%sql\n",
    "\n",
    "WITH \n",
    "    usa_invoices AS\n",
    "    (\n",
    "        SELECT *\n",
    "          FROM invoice\n",
    "         INNER JOIN invoice_line AS inv_line ON inv_line.invoice_id = invoice.invoice_id\n",
    "         WHERE billing_country = 'USA'\n",
    "    ),\n",
    "    track_and_genre AS\n",
    "    (\n",
    "        SELECT \n",
    "            track.track_id,\n",
    "            genre.name AS genre\n",
    "          FROM track\n",
    "         INNER JOIN genre ON genre.genre_id = track.genre_id\n",
    "    )\n",
    "    \n",
    "    \n",
    "SELECT \n",
    "    tng.genre AS genre,\n",
    "    SUM(us_inv.quantity) AS tracks_sold,\n",
    "    CAST(SUM(us_inv.quantity) AS FLOAT) / CAST(\n",
    "        (SELECT SUM(quantity) FROM usa_invoices) AS FLOAT) AS percentage_sold\n",
    "  FROM usa_invoices AS us_inv\n",
    " INNER JOIN track_and_genre AS tng ON tng.track_id = us_inv.track_id\n",
    " GROUP BY tng.genre\n",
    " ORDER BY tracks_sold DESC\n",
    " LIMIT 10;"
   ]
  },
  {
   "cell_type": "markdown",
   "metadata": {},
   "source": [
    "From the above results we might recommend purchasing the sale rights for the Punk group and advise against purchasing the rights for the Hip-Hop and Pop artists, with the Blues artist somewhere in the middle. We might also note that Rock is by far and away our most popular genre. On the other hand, we might also be suggest exploring the number of artists associated currently listed in the store with each genre in the interests of diversifying our offerings.\n",
    "\n",
    "This just goes to show how the same result might yield very different actions depending on the priority!"
   ]
  },
  {
   "cell_type": "markdown",
   "metadata": {},
   "source": [
    "## Analyzing Employee Sales Performance\n",
    "Suppose each customer for the Chinook store gets assigned to a sales support agent within the company when they first make a purchase. We have been asked to analyze the purchases of customers belonging to each employee to see if any sales support agent is performing either better or worse than the others.\n",
    "\n",
    "To that end, let's write a query that finds the total dollar amount of sales assigned to each sales support agent within the company. Along the way, we'll add any extra attributes for that employee that might be relevant to the analysis."
   ]
  },
  {
   "cell_type": "code",
   "execution_count": 38,
   "metadata": {},
   "outputs": [
    {
     "name": "stdout",
     "output_type": "stream",
     "text": [
      " * sqlite:///chinook.db\n",
      "Done.\n"
     ]
    },
    {
     "data": {
      "text/html": [
       "<table>\n",
       "    <tr>\n",
       "        <th>employee_id</th>\n",
       "        <th>last_name</th>\n",
       "        <th>first_name</th>\n",
       "        <th>title</th>\n",
       "        <th>hire_date</th>\n",
       "        <th>mo_since_hire</th>\n",
       "        <th>total_sales_assoc</th>\n",
       "        <th>sales_per_mo_since_hire</th>\n",
       "    </tr>\n",
       "    <tr>\n",
       "        <td>3</td>\n",
       "        <td>Peacock</td>\n",
       "        <td>Jane</td>\n",
       "        <td>Sales Support Agent</td>\n",
       "        <td>2017-04-01 00:00:00</td>\n",
       "        <td>8</td>\n",
       "        <td>1731.510000000004</td>\n",
       "        <td>216.4387500000005</td>\n",
       "    </tr>\n",
       "    <tr>\n",
       "        <td>4</td>\n",
       "        <td>Park</td>\n",
       "        <td>Margaret</td>\n",
       "        <td>Sales Support Agent</td>\n",
       "        <td>2017-05-03 00:00:00</td>\n",
       "        <td>7</td>\n",
       "        <td>1584.0000000000032</td>\n",
       "        <td>226.28571428571473</td>\n",
       "    </tr>\n",
       "    <tr>\n",
       "        <td>5</td>\n",
       "        <td>Johnson</td>\n",
       "        <td>Steve</td>\n",
       "        <td>Sales Support Agent</td>\n",
       "        <td>2017-10-17 00:00:00</td>\n",
       "        <td>2</td>\n",
       "        <td>1393.9200000000028</td>\n",
       "        <td>696.9600000000014</td>\n",
       "    </tr>\n",
       "</table>"
      ],
      "text/plain": [
       "[(3, 'Peacock', 'Jane', 'Sales Support Agent', '2017-04-01 00:00:00', 8, 1731.510000000004, 216.4387500000005),\n",
       " (4, 'Park', 'Margaret', 'Sales Support Agent', '2017-05-03 00:00:00', 7, 1584.0000000000032, 226.28571428571473),\n",
       " (5, 'Johnson', 'Steve', 'Sales Support Agent', '2017-10-17 00:00:00', 2, 1393.9200000000028, 696.9600000000014)]"
      ]
     },
     "execution_count": 38,
     "metadata": {},
     "output_type": "execute_result"
    }
   ],
   "source": [
    "%%sql\n",
    "\n",
    "WITH\n",
    "    sales_reps AS\n",
    "    (\n",
    "        SELECT *\n",
    "          FROM employee\n",
    "         WHERE title = \"Sales Support Agent\"\n",
    "    ),\n",
    "    \n",
    "    sales_rep_totals AS\n",
    "    (\n",
    "        SELECT \n",
    "            cust.support_rep_id AS rep_id,\n",
    "            SUM(inv.total) AS total_sales_assoc\n",
    "          FROM customer AS cust\n",
    "         INNER JOIN invoice AS inv ON inv.customer_id = cust.customer_id\n",
    "         GROUP BY cust.support_rep_id\n",
    "    )\n",
    "    \n",
    "SELECT \n",
    "    employee_id,\n",
    "    last_name,\n",
    "    first_name,\n",
    "    title,\n",
    "    hire_date,\n",
    "    STRFTIME('%m', DATE('2017-12-31'))-STRFTIME('%m', hire_date) AS mo_since_hire,\n",
    "    total_sales_assoc,\n",
    "    total_sales_assoc/(STRFTIME('%m', DATE('2017-12-31'))-STRFTIME('%m', hire_date)) AS sales_per_mo_since_hire\n",
    "  FROM sales_reps\n",
    " INNER JOIN sales_rep_totals ON sales_rep_totals.rep_id = sales_reps.employee_id\n",
    " ORDER BY total_sales_assoc DESC;"
   ]
  },
  {
   "cell_type": "markdown",
   "metadata": {},
   "source": [
    "Between the three sales agents, we notice a roughly 25% difference between the top representative (Jane Peacock) and the bottom (Steve Johnson). However, we also notice that this corresponds to the ordering of their hire dates. This suggests that the total sales associated with each representative is not enough to indicate their performace alone.\n",
    "\n",
    "Instead, we might look at sales per month since a representatives hire date. Normally, we'd use `DATE('now')` to determine the number of months since a rep's hire date, but the data is from 2017 and this project is being completed in 2020. As a result, if we were to use `DATE('now')` to find the sales per month since hiring the difference between each employee would be minimized. Instead, for the purposes of this project we'll pretend that this report is being generated at the end of 2017 (i.e. on `2017-12-31`) and compute the sales per month relative to that date.\n",
    "\n",
    "As a result, we find that although Jane has the greatest total of sales associated to her, Margaret's performance since hiring is roughly similar. On top of that, the representative with the fewest total sales associated, Steve, actually has the greatest number of sales per month since his hiring."
   ]
  },
  {
   "cell_type": "markdown",
   "metadata": {},
   "source": [
    "## Analyzing Sales by Country\n",
    "Moving on, our next task is to  analyze the sales data for customers from each different country. Since both the `customer` and `invoice` tables have `country` columns, we will elect to use the country value from the customers table, and ignore the country from the billing address in the invoice table.\n",
    "\n",
    "In particular, you have been directed to calculate data, for each country, on the:\n",
    "\n",
    "- total number of customers\n",
    "- total value of sales\n",
    "- average value of sales per customer\n",
    "- average order value\n",
    "\n",
    "Additionally, any countries with only a single customer associated should be grouped as `other`."
   ]
  },
  {
   "cell_type": "code",
   "execution_count": 66,
   "metadata": {},
   "outputs": [
    {
     "name": "stdout",
     "output_type": "stream",
     "text": [
      " * sqlite:///chinook.db\n",
      "Done.\n"
     ]
    },
    {
     "data": {
      "text/html": [
       "<table>\n",
       "    <tr>\n",
       "        <th>country</th>\n",
       "        <th>n_customers</th>\n",
       "        <th>total_sales</th>\n",
       "        <th>sales_per_cust</th>\n",
       "        <th>average_order</th>\n",
       "    </tr>\n",
       "    <tr>\n",
       "        <td>USA</td>\n",
       "        <td>13</td>\n",
       "        <td>1040.4899999999998</td>\n",
       "        <td>80.0376923076923</td>\n",
       "        <td>7.942671755725189</td>\n",
       "    </tr>\n",
       "    <tr>\n",
       "        <td>Canada</td>\n",
       "        <td>8</td>\n",
       "        <td>535.5900000000001</td>\n",
       "        <td>66.94875000000002</td>\n",
       "        <td>7.047236842105265</td>\n",
       "    </tr>\n",
       "    <tr>\n",
       "        <td>Brazil</td>\n",
       "        <td>5</td>\n",
       "        <td>427.68000000000006</td>\n",
       "        <td>85.53600000000002</td>\n",
       "        <td>7.0111475409836075</td>\n",
       "    </tr>\n",
       "    <tr>\n",
       "        <td>France</td>\n",
       "        <td>5</td>\n",
       "        <td>389.0699999999999</td>\n",
       "        <td>77.81399999999998</td>\n",
       "        <td>7.781399999999998</td>\n",
       "    </tr>\n",
       "    <tr>\n",
       "        <td>Germany</td>\n",
       "        <td>4</td>\n",
       "        <td>334.62</td>\n",
       "        <td>83.655</td>\n",
       "        <td>8.161463414634147</td>\n",
       "    </tr>\n",
       "    <tr>\n",
       "        <td>Czech Republic</td>\n",
       "        <td>2</td>\n",
       "        <td>273.24000000000007</td>\n",
       "        <td>136.62000000000003</td>\n",
       "        <td>9.108000000000002</td>\n",
       "    </tr>\n",
       "    <tr>\n",
       "        <td>United Kingdom</td>\n",
       "        <td>3</td>\n",
       "        <td>245.52</td>\n",
       "        <td>81.84</td>\n",
       "        <td>8.768571428571429</td>\n",
       "    </tr>\n",
       "    <tr>\n",
       "        <td>Portugal</td>\n",
       "        <td>2</td>\n",
       "        <td>185.13000000000002</td>\n",
       "        <td>92.56500000000001</td>\n",
       "        <td>6.383793103448276</td>\n",
       "    </tr>\n",
       "    <tr>\n",
       "        <td>India</td>\n",
       "        <td>2</td>\n",
       "        <td>183.14999999999998</td>\n",
       "        <td>91.57499999999999</td>\n",
       "        <td>8.72142857142857</td>\n",
       "    </tr>\n",
       "    <tr>\n",
       "        <td>Other</td>\n",
       "        <td>15</td>\n",
       "        <td>1094.9400000000003</td>\n",
       "        <td>72.99600000000002</td>\n",
       "        <td>7.44857142857143</td>\n",
       "    </tr>\n",
       "</table>"
      ],
      "text/plain": [
       "[('USA', 13, 1040.4899999999998, 80.0376923076923, 7.942671755725189),\n",
       " ('Canada', 8, 535.5900000000001, 66.94875000000002, 7.047236842105265),\n",
       " ('Brazil', 5, 427.68000000000006, 85.53600000000002, 7.0111475409836075),\n",
       " ('France', 5, 389.0699999999999, 77.81399999999998, 7.781399999999998),\n",
       " ('Germany', 4, 334.62, 83.655, 8.161463414634147),\n",
       " ('Czech Republic', 2, 273.24000000000007, 136.62000000000003, 9.108000000000002),\n",
       " ('United Kingdom', 3, 245.52, 81.84, 8.768571428571429),\n",
       " ('Portugal', 2, 185.13000000000002, 92.56500000000001, 6.383793103448276),\n",
       " ('India', 2, 183.14999999999998, 91.57499999999999, 8.72142857142857),\n",
       " ('Other', 15, 1094.9400000000003, 72.99600000000002, 7.44857142857143)]"
      ]
     },
     "execution_count": 66,
     "metadata": {},
     "output_type": "execute_result"
    }
   ],
   "source": [
    "%%sql\n",
    "\n",
    "WITH \n",
    "    country_class AS\n",
    "    (\n",
    "        SELECT\n",
    "            country,\n",
    "            (\n",
    "                CASE\n",
    "                    WHEN COUNT(*) = 1 THEN 'Other'\n",
    "                    ELSE country\n",
    "                END\n",
    "            ) AS country_class\n",
    "          FROM customer\n",
    "         GROUP BY country\n",
    "    ),\n",
    "    \n",
    "    inv_with_country_class AS\n",
    "    (\n",
    "        SELECT \n",
    "            inv.invoice_id,\n",
    "            inv.invoice_date,\n",
    "            cc.country_class,\n",
    "            cust.customer_id,\n",
    "            inv.total\n",
    "          FROM invoice AS inv\n",
    "         INNER JOIN customer AS cust ON cust.customer_id = inv.customer_id\n",
    "         INNER JOIN country_class AS cc ON cc.country = cust.country\n",
    "    )\n",
    "    \n",
    "SELECT \n",
    "    country,\n",
    "    n_customers,\n",
    "    total_sales,\n",
    "    sales_per_cust,\n",
    "    average_order\n",
    "  FROM\n",
    "    (\n",
    "        SELECT \n",
    "            country_class AS country,\n",
    "            COUNT(DISTINCT(customer_id)) AS n_customers,\n",
    "            SUM(total) AS total_sales,\n",
    "            SUM(total) / COUNT(DISTINCT(customer_id)) AS sales_per_cust,\n",
    "            SUM(total) / COUNT(DISTINCT(invoice_id)) AS average_order,\n",
    "            CASE\n",
    "                WHEN country_class = \"Other\" THEN 1\n",
    "                ELSE 0\n",
    "            END AS sort\n",
    "          FROM inv_with_country_class \n",
    "         GROUP BY country        \n",
    "    )\n",
    " ORDER BY sort ASC, total_sales DESC;\n"
   ]
  },
  {
   "cell_type": "markdown",
   "metadata": {},
   "source": [
    "## Purchasing decisions: albums or individual tracks?\n",
    "Suppose that Chinook is set up in a way which allows users to purchase music in two ways:\n",
    "1. purchase a whole album\n",
    "2. purchase a collection of one or more individual tracks.\n",
    "\n",
    "When a user makes a purchase it is recorded exclusively as either whole-album or individual tracks (i.e. a user cannot purchase an album and then add individual tracks in a single transaction). Finally customers are charged the same price whether they purchase albums as a whole or each track separately.\n",
    "\n",
    "Management are currently considering changing their purchasing strategy to save money. The strategy they are considering is to purchase only the most popular tracks from each album from record companies, instead of purchasing every track from an album. We have been asked to find out what percentage of purchases are individual tracks vs whole albums, so that management can use this data to understand the effect this decision might have on overall revenue."
   ]
  },
  {
   "cell_type": "code",
   "execution_count": 84,
   "metadata": {},
   "outputs": [
    {
     "name": "stdout",
     "output_type": "stream",
     "text": [
      " * sqlite:///chinook.db\n",
      "Done.\n"
     ]
    },
    {
     "data": {
      "text/html": [
       "<table>\n",
       "    <tr>\n",
       "        <th>album_purchase</th>\n",
       "        <th>n_invoice</th>\n",
       "        <th>percent_purchases</th>\n",
       "    </tr>\n",
       "    <tr>\n",
       "        <td>0</td>\n",
       "        <td>500</td>\n",
       "        <td>0.8143322475570033</td>\n",
       "    </tr>\n",
       "    <tr>\n",
       "        <td>1</td>\n",
       "        <td>114</td>\n",
       "        <td>0.18566775244299674</td>\n",
       "    </tr>\n",
       "</table>"
      ],
      "text/plain": [
       "[(0, 500, 0.8143322475570033), (1, 114, 0.18566775244299674)]"
      ]
     },
     "execution_count": 84,
     "metadata": {},
     "output_type": "execute_result"
    }
   ],
   "source": [
    "%%sql\n",
    "\n",
    "WITH\n",
    "    iline_track_album AS\n",
    "    (\n",
    "        SELECT \n",
    "            invoice_id,\n",
    "            invoice_line.track_id,\n",
    "            track.album_id\n",
    "          FROM invoice_line \n",
    "         INNER JOIN track ON track.track_id = invoice_line.track_id\n",
    "         GROUP BY invoice_id\n",
    "    )\n",
    "\n",
    "SELECT \n",
    "    album_purchase,\n",
    "    COUNT(*) AS n_invoice,\n",
    "    CAST(COUNT(*) AS FLOAT)/(SELECT COUNT(*) FROM invoice) AS percent_purchases\n",
    "  FROM\n",
    "        (\n",
    "        SELECT\n",
    "            itla.*,\n",
    "            CASE\n",
    "                WHEN \n",
    "                    (\n",
    "                        SELECT inv_line.track_id FROM invoice_line AS inv_line\n",
    "                         WHERE inv_line.invoice_id = itla.invoice_id\n",
    "\n",
    "\n",
    "                        EXCEPT\n",
    "\n",
    "\n",
    "                        SELECT track.track_id FROM track\n",
    "                         WHERE track.album_id = itla.album_id \n",
    "                    ) IS NULL\n",
    "                    AND\n",
    "                    (\n",
    "                        SELECT track.track_id FROM track\n",
    "                         WHERE track.album_id = itla.album_id \n",
    "\n",
    "                        EXCEPT\n",
    "\n",
    "                        SELECT inv_line.track_id FROM invoice_line AS inv_line\n",
    "                         WHERE inv_line.invoice_id = itla.invoice_id\n",
    "                    ) IS NULL\n",
    "                    THEN 1\n",
    "                    ELSE 0\n",
    "                END AS album_purchase\n",
    "          FROM iline_track_album AS itla\n",
    "        )\n",
    " GROUP BY album_purchase"
   ]
  },
  {
   "cell_type": "code",
   "execution_count": null,
   "metadata": {},
   "outputs": [],
   "source": []
  }
 ],
 "metadata": {
  "kernelspec": {
   "display_name": "Python 3",
   "language": "python",
   "name": "python3"
  },
  "language_info": {
   "codemirror_mode": {
    "name": "ipython",
    "version": 3
   },
   "file_extension": ".py",
   "mimetype": "text/x-python",
   "name": "python",
   "nbconvert_exporter": "python",
   "pygments_lexer": "ipython3",
   "version": "3.7.4"
  }
 },
 "nbformat": 4,
 "nbformat_minor": 2
}
