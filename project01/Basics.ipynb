{
 "cells": [
  {
   "cell_type": "markdown",
   "metadata": {
    "collapsed": true
   },
   "source": [
    "# Data Analyst Project01: \n",
    "## Profitable App Profiles for the App Store and Google Play Markets"
   ]
  },
  {
   "cell_type": "markdown",
   "metadata": {},
   "source": [
    "**Synopsis**:\n",
    "Pretend we're working as data analysts for a company that builds Android and iOS mobile apps. We make our apps available on Google Play and the App Store.\n",
    "\n",
    "We only build apps that are free to download and install, and our main source of revenue consists of in-app ads. This means our revenue for any given app is mostly influenced by the number of users who use our app — the more users that see and engage with the ads, the better. Our goal for this project is to analyze data to help our developers understand what type of apps are likely to attract more users."
   ]
  },
  {
   "cell_type": "code",
   "execution_count": 2,
   "metadata": {
    "collapsed": true
   },
   "outputs": [],
   "source": [
    "def explore_data(dataset, start=0, end=-1, rows_and_cols=False):\n",
    "    dset_slice = dataset[start:end]\n",
    "    for row in dset_slice:\n",
    "        print(row)\n",
    "        print('\\n')\n",
    "        \n",
    "    if rows_and_cols:\n",
    "        print('Number of rows: ', len(dataset))\n",
    "        print('Number of cols: ', len(dataset[0]))\n",
    "        \n",
    "    return None"
   ]
  },
  {
   "cell_type": "markdown",
   "metadata": {},
   "source": [
    "We will work with two datasets from Kaggle published within the last two years:\n",
    "\n",
    "- Apple Store data (2018): https://www.kaggle.com/ramamet4/app-store-apple-data-set-10k-apps\n",
    "\n",
    "- Google Play Store data (2019): https://www.kaggle.com/lava18/google-play-store-apps"
   ]
  },
  {
   "cell_type": "code",
   "execution_count": 3,
   "metadata": {
    "collapsed": false
   },
   "outputs": [],
   "source": [
    "import csv\n",
    "# Apple Store data\n",
    "with open('AppleStore.csv') as file:\n",
    "    apple_store_data = list(csv.reader(file))\n",
    "\n",
    "# Google Play Store data\n",
    "with open('googleplaystore.csv') as file:\n",
    "    gplay_store_data = list(csv.reader(file))\n",
    "\n",
    "# Separate headers and data\n",
    "apple_store_header = apple_store_data[0]\n",
    "apple_store = apple_store_data[1:]\n",
    "\n",
    "gplay_store_header = gplay_store_data[0]\n",
    "gplay_store = gplay_store_data[1:]"
   ]
  },
  {
   "cell_type": "code",
   "execution_count": 4,
   "metadata": {
    "collapsed": false
   },
   "outputs": [
    {
     "name": "stdout",
     "output_type": "stream",
     "text": [
      "['id', 'track_name', 'size_bytes', 'currency', 'price', 'rating_count_tot', 'rating_count_ver', 'user_rating', 'user_rating_ver', 'ver', 'cont_rating', 'prime_genre', 'sup_devices.num', 'ipadSc_urls.num', 'lang.num', 'vpp_lic'] \n",
      "\n",
      "['284882215', 'Facebook', '389879808', 'USD', '0.0', '2974676', '212', '3.5', '3.5', '95.0', '4+', 'Social Networking', '37', '1', '29', '1']\n",
      "\n",
      "\n",
      "['389801252', 'Instagram', '113954816', 'USD', '0.0', '2161558', '1289', '4.5', '4.0', '10.23', '12+', 'Photo & Video', '37', '0', '29', '1']\n",
      "\n",
      "\n",
      "['529479190', 'Clash of Clans', '116476928', 'USD', '0.0', '2130805', '579', '4.5', '4.5', '9.24.12', '9+', 'Games', '38', '5', '18', '1']\n",
      "\n",
      "\n",
      "Number of rows:  7197\n",
      "Number of cols:  16\n"
     ]
    }
   ],
   "source": [
    "print(apple_store_header, '\\n')\n",
    "_ = explore_data(apple_store, end=3, rows_and_cols=True)"
   ]
  },
  {
   "cell_type": "markdown",
   "metadata": {},
   "source": [
    "### First look at the data:\n",
    "\n",
    "The Apple store data has 7197 apps listed with 16 columns of data. The provided column descriptions are a little obfuscated, but looking at the descriptions on the Kaggle page we can get an idea of a few columns of initial interest:\n",
    "1. `track_name`: App name in store.\n",
    "2. `currency` and `price`: Price and currency of app, since we are interested in free apps, we will want to filter out paid apps.\n",
    "3. `rating_count_tot` and `rating_count_ver`: Number of ratings for app in total and for the most recent version, respectively. These give an idea of how popular the app is overall and with it's most recent version.\n",
    "4. `user_rating` and `user_rating_ver`: Average user review scores (using a scale from 0.0-5.0) overall and for the most recent version. These indicate the quality/reception of an app.\n",
    "5. `cont_rating` and `prime_genre`: Recommended age restrictions and the main category for an app. These help describe (generally) what the app does, and what audience the app is targeted towards."
   ]
  },
  {
   "cell_type": "code",
   "execution_count": 5,
   "metadata": {
    "collapsed": false
   },
   "outputs": [
    {
     "name": "stdout",
     "output_type": "stream",
     "text": [
      "['App', 'Category', 'Rating', 'Reviews', 'Size', 'Installs', 'Type', 'Price', 'Content Rating', 'Genres', 'Last Updated', 'Current Ver', 'Android Ver'] \n",
      "\n",
      "['Photo Editor & Candy Camera & Grid & ScrapBook', 'ART_AND_DESIGN', '4.1', '159', '19M', '10,000+', 'Free', '0', 'Everyone', 'Art & Design', 'January 7, 2018', '1.0.0', '4.0.3 and up']\n",
      "\n",
      "\n",
      "['Coloring book moana', 'ART_AND_DESIGN', '3.9', '967', '14M', '500,000+', 'Free', '0', 'Everyone', 'Art & Design;Pretend Play', 'January 15, 2018', '2.0.0', '4.0.3 and up']\n",
      "\n",
      "\n",
      "['U Launcher Lite – FREE Live Cool Themes, Hide Apps', 'ART_AND_DESIGN', '4.7', '87510', '8.7M', '5,000,000+', 'Free', '0', 'Everyone', 'Art & Design', 'August 1, 2018', '1.2.4', '4.0.3 and up']\n",
      "\n",
      "\n",
      "Number of rows:  10841\n",
      "Number of cols:  13\n"
     ]
    }
   ],
   "source": [
    "print(gplay_store_header, '\\n')\n",
    "_ = explore_data(gplay_store, end=3, rows_and_cols=True)"
   ]
  },
  {
   "cell_type": "markdown",
   "metadata": {},
   "source": [
    "The Google Play store data lists just over 10,000 apps described with 13 columns. The column names are a little more descriptive so we can decide what columns might be of interest:\n",
    "\n",
    "1. `App`: App name in store.\n",
    "2. `Type` and `Price`: Type refers to an app that is either 'Free' or 'Paid' and the price of the app (in USD).\n",
    "3. `Reviews`: The number of ratings for the app in total.\n",
    "4. `Rating`: The average user review score (using a scale from 0.0-5.0) overall.\n",
    "5. `Content Rating`, `Category`, and `Genres`: Recommended age restrictions, primary category, and full list of relevant categories for the app. Note that an app has belongs to only one `Category`, but possibly many `Genres`.\n",
    "\n",
    "If we compare the two datasets, we can thankfully see that they both mostly contain the same types of data we're interested in. One notable difference is that the Apple store yields information about the most current version of an app as well as it's overall history, while the Google play store provides a finer resolution of the different types of apps."
   ]
  },
  {
   "cell_type": "markdown",
   "metadata": {},
   "source": [
    "## Data Validation\n",
    "\n",
    "Let's do a quick smoke check for incorrect/missing data. Two of the most common data errors are missing values and duplicated data that should be unique.\n",
    "\n",
    "The simplest check for missing data is to iterate looking for rows that are shorter than the header, indicating that at least one column is missing data.\n",
    "\n",
    "To check for duplicate entries "
   ]
  },
  {
   "cell_type": "code",
   "execution_count": 6,
   "metadata": {
    "collapsed": false
   },
   "outputs": [],
   "source": [
    "def data_smoke_test_missing(dataset, n_cols):\n",
    "    # Simple smoke test of data looking at how many columns are present for each row    \n",
    "    out = []\n",
    "    for idx, row in enumerate(dataset):\n",
    "        if len(row) != n_cols: # row is missing at least one column's worth of data\n",
    "            out.append(idx)\n",
    "    \n",
    "    return out\n",
    "\n",
    "def data_smoke_test_duplicate(dataset, key_index):\n",
    "    # Another simple test looking for uniqueness of values for a given key column.\n",
    "    # seen_values is keyed by the values present in the key column.\n",
    "    # For a given key k, seen_values[k] is a list of each row index idx such that row[idx] = k \n",
    "    # Thus a key k is unique if and only if len(seen_values[k]) ==  1\n",
    "    seen_values = {}\n",
    "    for idx, row in enumerate(dataset):\n",
    "        val = row[key_index]\n",
    "        if val not in seen_values:\n",
    "            seen_values[val] = [idx]\n",
    "        else:\n",
    "            seen_values[val].append(idx)\n",
    "            \n",
    "    # filter unique keys from seen_values\n",
    "    non_unique_keys = {}\n",
    "    for key,value in seen_values.items():\n",
    "        if len(value) > 1:\n",
    "            non_unique_keys[key] = value\n",
    "    \n",
    "    return non_unique_keys"
   ]
  },
  {
   "cell_type": "code",
   "execution_count": 27,
   "metadata": {
    "collapsed": false
   },
   "outputs": [
    {
     "name": "stdout",
     "output_type": "stream",
     "text": [
      "Apple store rows w. missing columns = 0\n",
      "Gplay store rows w. missing columns = 0\n",
      "[]\n",
      "[]\n",
      "\n",
      "Duplicated apps in apple store:\n",
      "\n",
      "['952877179', 'VR Roller Coaster', '169523200', 'USD', '0.0', '107', '102', '3.5', '3.5', '2.0.0', '4+', 'Games', '37', '5', '1', '1']\n",
      "['1089824278', 'VR Roller Coaster', '240964608', 'USD', '0.0', '67', '44', '3.5', '4.0', '0.81', '4+', 'Games', '38', '0', '1', '1']\n",
      "['1173990889', 'Mannequin Challenge', '109705216', 'USD', '0.0', '668', '87', '3.0', '3.0', '1.4', '9+', 'Games', '37', '4', '1', '1']\n",
      "['1178454060', 'Mannequin Challenge', '59572224', 'USD', '0.0', '105', '58', '4.0', '4.5', '1.0.1', '4+', 'Games', '38', '5', '1', '1']\n",
      "\n",
      "A selection of duplicated apps in gplay store:\n",
      "\n",
      "['Instagram', 'SOCIAL', '4.5', '66577313', 'Varies with device', '1,000,000,000+', 'Free', '0', 'Teen', 'Social', 'July 31, 2018', 'Varies with device', 'Varies with device']\n",
      "['Instagram', 'SOCIAL', '4.5', '66577446', 'Varies with device', '1,000,000,000+', 'Free', '0', 'Teen', 'Social', 'July 31, 2018', 'Varies with device', 'Varies with device']\n",
      "['Instagram', 'SOCIAL', '4.5', '66577313', 'Varies with device', '1,000,000,000+', 'Free', '0', 'Teen', 'Social', 'July 31, 2018', 'Varies with device', 'Varies with device']\n",
      "['Instagram', 'SOCIAL', '4.5', '66509917', 'Varies with device', '1,000,000,000+', 'Free', '0', 'Teen', 'Social', 'July 31, 2018', 'Varies with device', 'Varies with device']\n"
     ]
    }
   ],
   "source": [
    "idx_missing_apple = data_smoke_test_missing(apple_store, len(apple_store_header))\n",
    "idx_missing_gplay = data_smoke_test_missing(gplay_store, len(gplay_store_header))\n",
    "\n",
    "print(\"Apple store rows w. missing columns = {}\".format(len(idx_missing_apple)))\n",
    "print(\"Gplay store rows w. missing columns = {}\".format(len(idx_missing_gplay)))\n",
    "\n",
    "print([apple_store[idx] for idx in idx_missing_apple])\n",
    "print([gplay_store[idx] for idx in idx_missing_gplay])\n",
    "    \n",
    "dup_key_apple = data_smoke_test_duplicate(apple_store, key_index=1)\n",
    "dup_key_gplay = data_smoke_test_duplicate(gplay_store, key_index=0)\n",
    "\n",
    "if dup_key_apple:\n",
    "    print(\"\\nDuplicated apps in apple store:\\n\")\n",
    "    for key, idx_dup_apple in dup_key_apple.items():\n",
    "        print(*[apple_store[idx] for idx in idx_dup_apple], sep='\\n')\n",
    "\n",
    "if dup_key_gplay:\n",
    "    print(\"\\nA selection of duplicated apps in gplay store:\\n\")\n",
    "    # There are many more collisions in the gplay data.. we'll just show one for an example\n",
    "    print(*[gplay_store[idx] for idx in dup_key_gplay['Instagram']], sep='\\n')"
   ]
  },
  {
   "cell_type": "code",
   "execution_count": null,
   "metadata": {
    "collapsed": true
   },
   "outputs": [],
   "source": [
    "delete = False\n",
    "if(delete):\n",
    "    apple_store = [row for idx, row in enumerate(apple_store) if idx not in idx_missing_apple]\n",
    "    gplay_store = [row for idx, row in enumerate(gplay_store) if idx not in idx_missing_gplay]\n"
   ]
  },
  {
   "cell_type": "code",
   "execution_count": null,
   "metadata": {
    "collapsed": true
   },
   "outputs": [],
   "source": []
  }
 ],
 "metadata": {
  "kernelspec": {
   "display_name": "Python 3",
   "language": "python",
   "name": "python3"
  }
 },
 "nbformat": 4,
 "nbformat_minor": 2
}
