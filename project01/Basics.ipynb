{
 "cells": [
  {
   "cell_type": "markdown",
   "metadata": {
    "collapsed": true
   },
   "source": [
    "# Data Analyst Project01: \n",
    "## Profitable App Profiles for the App Store and Google Play Markets"
   ]
  },
  {
   "cell_type": "markdown",
   "metadata": {},
   "source": [
    "**Synopsis**:\n",
    "Pretend we're working as data analysts for a company that builds Android and iOS mobile apps. We make our apps available on Google Play and the App Store.\n",
    "\n",
    "We only build apps that are free to download and install, and our main source of revenue consists of in-app ads. This means our revenue for any given app is mostly influenced by the number of users who use our app — the more users that see and engage with the ads, the better. Our goal for this project is to analyze data to help our developers understand what type of apps are likely to attract more users."
   ]
  },
  {
   "cell_type": "code",
   "execution_count": 1,
   "metadata": {
    "collapsed": true
   },
   "outputs": [],
   "source": [
    "def explore_data(dataset, start=0, end=-1, rows_and_cols=False):\n",
    "    dset_slice = dataset[start:end]\n",
    "    for row in dset_slice:\n",
    "        print(row)\n",
    "        print('\\n')\n",
    "        \n",
    "    if rows_and_cols:\n",
    "        print('Number of rows: ', len(dataset))\n",
    "        print('Number of cols: ', len(dataset[0]))\n",
    "        \n",
    "    return None"
   ]
  },
  {
   "cell_type": "markdown",
   "metadata": {},
   "source": [
    "We will work with two datasets from Kaggle published within the last two years:\n",
    "\n",
    "- Apple Store data (2018): https://www.kaggle.com/ramamet4/app-store-apple-data-set-10k-apps\n",
    "\n",
    "- Google Play Store data (2019): https://www.kaggle.com/lava18/google-play-store-apps"
   ]
  },
  {
   "cell_type": "code",
   "execution_count": 2,
   "metadata": {
    "collapsed": false
   },
   "outputs": [],
   "source": [
    "import csv\n",
    "# Apple Store data\n",
    "with open('AppleStore.csv') as file:\n",
    "    apple_store_data = list(csv.reader(file))\n",
    "\n",
    "# Google Play Store data\n",
    "with open('googleplaystore.csv') as file:\n",
    "    gplay_store_data = list(csv.reader(file))\n",
    "\n",
    "# Separate headers and data\n",
    "apple_store_header = apple_store_data[0]\n",
    "apple_store = apple_store_data[1:]\n",
    "\n",
    "gplay_store_header = gplay_store_data[0]\n",
    "gplay_store = gplay_store_data[1:]"
   ]
  },
  {
   "cell_type": "code",
   "execution_count": 3,
   "metadata": {
    "collapsed": false
   },
   "outputs": [
    {
     "name": "stdout",
     "output_type": "stream",
     "text": [
      "['id', 'track_name', 'size_bytes', 'currency', 'price', 'rating_count_tot', 'rating_count_ver', 'user_rating', 'user_rating_ver', 'ver', 'cont_rating', 'prime_genre', 'sup_devices.num', 'ipadSc_urls.num', 'lang.num', 'vpp_lic'] \n",
      "\n",
      "['284882215', 'Facebook', '389879808', 'USD', '0.0', '2974676', '212', '3.5', '3.5', '95.0', '4+', 'Social Networking', '37', '1', '29', '1']\n",
      "\n",
      "\n",
      "['389801252', 'Instagram', '113954816', 'USD', '0.0', '2161558', '1289', '4.5', '4.0', '10.23', '12+', 'Photo & Video', '37', '0', '29', '1']\n",
      "\n",
      "\n",
      "['529479190', 'Clash of Clans', '116476928', 'USD', '0.0', '2130805', '579', '4.5', '4.5', '9.24.12', '9+', 'Games', '38', '5', '18', '1']\n",
      "\n",
      "\n",
      "Number of rows:  7197\n",
      "Number of cols:  16\n"
     ]
    }
   ],
   "source": [
    "print(apple_store_header, '\\n')\n",
    "_ = explore_data(apple_store, end=3, rows_and_cols=True)"
   ]
  },
  {
   "cell_type": "markdown",
   "metadata": {},
   "source": [
    "### First look at the data:\n",
    "\n",
    "The Apple store data has 7197 apps listed with 16 columns of data. The provided column descriptions are a little obfuscated, but looking at the descriptions on the Kaggle page we can get an idea of a few columns of initial interest:\n",
    "1. `track_name`: App name in store.\n",
    "2. `currency` and `price`: Price and currency of app, since we are interested in free apps, we will want to filter out paid apps.\n",
    "3. `rating_count_tot` and `rating_count_ver`: Number of ratings for app in total and for the most recent version, respectively. These give an idea of how popular the app is overall and with it's most recent version.\n",
    "4. `user_rating` and `user_rating_ver`: Average user review scores (using a scale from 0.0-5.0) overall and for the most recent version. These indicate the quality/reception of an app.\n",
    "5. `cont_rating` and `prime_genre`: Recommended age restrictions and the main category for an app. These help describe (generally) what the app does, and what audience the app is targeted towards."
   ]
  },
  {
   "cell_type": "code",
   "execution_count": 4,
   "metadata": {
    "collapsed": false
   },
   "outputs": [
    {
     "name": "stdout",
     "output_type": "stream",
     "text": [
      "['App', 'Category', 'Rating', 'Reviews', 'Size', 'Installs', 'Type', 'Price', 'Content Rating', 'Genres', 'Last Updated', 'Current Ver', 'Android Ver'] \n",
      "\n",
      "['Photo Editor & Candy Camera & Grid & ScrapBook', 'ART_AND_DESIGN', '4.1', '159', '19M', '10,000+', 'Free', '0', 'Everyone', 'Art & Design', 'January 7, 2018', '1.0.0', '4.0.3 and up']\n",
      "\n",
      "\n",
      "['Coloring book moana', 'ART_AND_DESIGN', '3.9', '967', '14M', '500,000+', 'Free', '0', 'Everyone', 'Art & Design;Pretend Play', 'January 15, 2018', '2.0.0', '4.0.3 and up']\n",
      "\n",
      "\n",
      "['U Launcher Lite – FREE Live Cool Themes, Hide Apps', 'ART_AND_DESIGN', '4.7', '87510', '8.7M', '5,000,000+', 'Free', '0', 'Everyone', 'Art & Design', 'August 1, 2018', '1.2.4', '4.0.3 and up']\n",
      "\n",
      "\n",
      "Number of rows:  10841\n",
      "Number of cols:  13\n"
     ]
    }
   ],
   "source": [
    "print(gplay_store_header, '\\n')\n",
    "_ = explore_data(gplay_store, end=3, rows_and_cols=True)"
   ]
  },
  {
   "cell_type": "markdown",
   "metadata": {},
   "source": [
    "The Google Play store data lists just over 10,000 apps described with 13 columns. The column names are a little more descriptive so we can decide what columns might be of interest:\n",
    "\n",
    "1. `App`: App name in store.\n",
    "2. `Type` and `Price`: Type refers to an app that is either 'Free' or 'Paid' and the price of the app (in USD).\n",
    "3. `Reviews`: The number of ratings for the app in total.\n",
    "4. `Rating`: The average user review score (using a scale from 0.0-5.0) overall.\n",
    "5. `Content Rating`, `Category`, and `Genres`: Recommended age restrictions, primary category, and full list of relevant categories for the app. Note that an app has belongs to only one `Category`, but possibly many `Genres`.\n",
    "\n",
    "If we compare the two datasets, we can thankfully see that they both mostly contain the same types of data we're interested in. One notable difference is that the Apple store yields information about the most current version of an app as well as it's overall history, while the Google play store provides a finer resolution of the different types of apps."
   ]
  },
  {
   "cell_type": "markdown",
   "metadata": {},
   "source": [
    "## Data Validation\n",
    "\n",
    "Let's do a quick smoke check for incorrect/missing data. Two of the most common data errors are missing values and duplicated data that should be unique.\n",
    "\n",
    "The simplest check for missing data is to iterate looking for rows that are shorter than the header, indicating that at least one column is missing data. So we introduce a function that checks that each row in our table contains the same number of elements as the header.\n",
    "\n",
    "This type of error is fairly rare in our data, and without any prior knowledge beforehand on how to fill the missing values, it's safest to simply remove the rows from our analysis.\n",
    "\n",
    "Our data is meant to represent individual apps in either the Google Play or Apple App stores. This means that we need to ensure that each row corresponds to one and only one potential app for each store. We do this by looking through the data for duplicated entries in a field that should be unique to each row (usually called a key). We'll then use that key to detect collisions in the data and either eliminate or fold in the duplicated data until we are left with distinct values in the key column(s). \n",
    "\n",
    "If we knew that our data was obtained from a relational database (RDB), or as the result of a query to an official source, we could depend on the RDB managment system to handle this for us. However, in our case it seems likely that this data was obtained by scraping the websites for the Google Play and Apple App stores. Although the Apple dataset has an `id` field, which is likely to be a key, no such field exists in the Google Play dataset. Our next best option is to look for duplicates in the fields containing the app names."
   ]
  },
  {
   "cell_type": "code",
   "execution_count": 5,
   "metadata": {
    "collapsed": false
   },
   "outputs": [],
   "source": [
    "def data_smoke_test_missing(dataset, n_cols):\n",
    "    # Simple smoke test of data looking at how many columns are present for each row    \n",
    "    out = []\n",
    "    for idx, row in enumerate(dataset):\n",
    "        if len(row) != n_cols: # row is missing at least one column's worth of data\n",
    "            out.append(idx)\n",
    "    \n",
    "    return out\n",
    "\n",
    "def data_smoke_test_duplicate(dataset, key_index):\n",
    "    # Another simple test looking for uniqueness of values for a given key column.\n",
    "    # seen_values is keyed by the values present in the key column.\n",
    "    # For a given key k, seen_values[k] is a list of each row index idx such that row[idx] = k \n",
    "    # Thus a key k is unique if and only if len(seen_values[k]) ==  1\n",
    "    seen_values = {}\n",
    "    for idx, row in enumerate(dataset):\n",
    "        val = row[key_index]\n",
    "        if val not in seen_values:\n",
    "            seen_values[val] = [idx]\n",
    "        else:\n",
    "            seen_values[val].append(idx)\n",
    "            \n",
    "    # filter unique keys from seen_values\n",
    "    non_unique_keys = {}\n",
    "    idx_to_remove = None\n",
    "    for key,value in seen_values.items():\n",
    "        if len(value) > 1:\n",
    "            non_unique_keys[key] = value      \n",
    "    \n",
    "    return non_unique_keys"
   ]
  },
  {
   "cell_type": "code",
   "execution_count": 6,
   "metadata": {
    "collapsed": false
   },
   "outputs": [
    {
     "name": "stdout",
     "output_type": "stream",
     "text": [
      "Apple store rows w. missing columns = 0\n",
      "Gplay store rows w. missing columns = 1\n",
      "[]\n",
      "[['Life Made WI-Fi Touchscreen Photo Frame', '1.9', '19', '3.0M', '1,000+', 'Free', '0', 'Everyone', '', 'February 11, 2018', '1.0.19', '4.0 and up']]\n",
      "\n",
      "Duplicated apps in apple store: 2\n",
      "\n",
      "['952877179', 'VR Roller Coaster', '169523200', 'USD', '0.0', '107', '102', '3.5', '3.5', '2.0.0', '4+', 'Games', '37', '5', '1', '1']\n",
      "['1089824278', 'VR Roller Coaster', '240964608', 'USD', '0.0', '67', '44', '3.5', '4.0', '0.81', '4+', 'Games', '38', '0', '1', '1']\n",
      "['1173990889', 'Mannequin Challenge', '109705216', 'USD', '0.0', '668', '87', '3.0', '3.0', '1.4', '9+', 'Games', '37', '4', '1', '1']\n",
      "['1178454060', 'Mannequin Challenge', '59572224', 'USD', '0.0', '105', '58', '4.0', '4.5', '1.0.1', '4+', 'Games', '38', '5', '1', '1']\n",
      "\n",
      "A selection of duplicated apps in gplay store: 798\n",
      "\n",
      "['Instagram', 'SOCIAL', '4.5', '66577313', 'Varies with device', '1,000,000,000+', 'Free', '0', 'Teen', 'Social', 'July 31, 2018', 'Varies with device', 'Varies with device']\n",
      "['Instagram', 'SOCIAL', '4.5', '66577446', 'Varies with device', '1,000,000,000+', 'Free', '0', 'Teen', 'Social', 'July 31, 2018', 'Varies with device', 'Varies with device']\n",
      "['Instagram', 'SOCIAL', '4.5', '66577313', 'Varies with device', '1,000,000,000+', 'Free', '0', 'Teen', 'Social', 'July 31, 2018', 'Varies with device', 'Varies with device']\n",
      "['Instagram', 'SOCIAL', '4.5', '66509917', 'Varies with device', '1,000,000,000+', 'Free', '0', 'Teen', 'Social', 'July 31, 2018', 'Varies with device', 'Varies with device']\n"
     ]
    }
   ],
   "source": [
    "idx_missing_apple = data_smoke_test_missing(apple_store, len(apple_store_header))\n",
    "idx_missing_gplay = data_smoke_test_missing(gplay_store, len(gplay_store_header))\n",
    "\n",
    "print(\"Apple store rows w. missing columns = {}\".format(len(idx_missing_apple)))\n",
    "print(\"Gplay store rows w. missing columns = {}\".format(len(idx_missing_gplay)))\n",
    "\n",
    "print([apple_store[idx] for idx in idx_missing_apple])\n",
    "print([gplay_store[idx] for idx in idx_missing_gplay])\n",
    "    \n",
    "dup_key_apple = data_smoke_test_duplicate(apple_store, key_index=1)\n",
    "dup_key_gplay = data_smoke_test_duplicate(gplay_store, key_index=0)\n",
    "\n",
    "if dup_key_apple:\n",
    "    n_dup_keys = len(dup_key_apple.keys())\n",
    "    print(\"\\nDuplicated apps in apple store: {}\\n\".format(n_dup_keys))\n",
    "    for key, idx_dup_apple in dup_key_apple.items():\n",
    "        print(*[apple_store[idx] for idx in idx_dup_apple], sep='\\n')\n",
    "\n",
    "if dup_key_gplay:\n",
    "    n_dup_keys = len(dup_key_gplay.keys())\n",
    "    print(\"\\nA selection of duplicated apps in gplay store: {}\\n\".format(n_dup_keys))\n",
    "    # There are many more collisions in the gplay data.. we'll just show a few\n",
    "    print(*[gplay_store[idx] for idx in dup_key_gplay['Instagram']], sep='\\n')"
   ]
  },
  {
   "cell_type": "markdown",
   "metadata": {},
   "source": [
    "Even though there are no collisions in the `id` field of the Apple App store data, we still find two sets of collisions in the app names. For the Google Play set, we find many more sets of collisions. \n",
    "\n",
    "Looking at the collisions in the Google Play data, it's clear that the only differing column is the `Reviews` column. What's most likely happening is that when this dataset was composed, the Google Play store was scraped multiple times with some time elapsing between runs. During this gap, additional reviews were submitted for several of the apps (even more likely for highly popular apps), which were then incorrectly identified as new apps and added to the dataset. To resolve these conflicts, we'll keep only the record with the largest number of reviews, indicating the most recent data pulled for that app.\n",
    "\n",
    "For the Apple Store collisions, we see that the both sets of apps have more substantial distinguishing columns. Both collisions have differing version columns, with one set further having a different content rating. Along with the unique `id` field, this could at least plausibly indicate that these collisions are in fact distinct apps. There is still some risk in not resolving these collisions, because we don't know for certain the providence of the data. However that risk is acceptably small since there are only two sets of two collisions."
   ]
  },
  {
   "cell_type": "code",
   "execution_count": 7,
   "metadata": {
    "collapsed": false
   },
   "outputs": [
    {
     "name": "stdout",
     "output_type": "stream",
     "text": [
      "Number of Apple Apps Remaining = 7197\n",
      "Number of Google Play Apps Remaining = 9659\n"
     ]
    }
   ],
   "source": [
    "idx_to_remove_apple = idx_missing_apple\n",
    "idx_to_remove_gplay = idx_missing_gplay\n",
    "\n",
    "# De-duplicate gplay dataset\n",
    "# Get list of indicies to remove, leaving row with largest number of reviews\n",
    "discrim_col = 3 # discriminate rows based on total number of reviews\n",
    "for key in dup_key_gplay:\n",
    "    list_of_idx = dup_key_gplay[key]\n",
    "    max_idx = list_of_idx[0]\n",
    "    max_rev = int(gplay_store[max_idx][discrim_col])\n",
    "    for idx in list_of_idx[1:]:\n",
    "        n_rev = int(gplay_store[idx][discrim_col])\n",
    "        if n_rev > max_rev:\n",
    "            idx_to_remove_gplay.append(max_idx)\n",
    "            max_idx = idx\n",
    "            max_rev = n_rev\n",
    "        else:\n",
    "            idx_to_remove_gplay.append(idx)\n",
    "        \n",
    "# Filter out indicies to be removed\n",
    "delete = True\n",
    "if(delete):\n",
    "    apple_store = [row for idx, row in enumerate(apple_store) if idx not in idx_to_remove_apple]\n",
    "    gplay_store = [row for idx, row in enumerate(gplay_store) if idx not in idx_to_remove_gplay]\n",
    "    \n",
    "print(\"Number of Apple Apps Remaining = {}\".format(len(apple_store)))\n",
    "print(\"Number of Google Play Apps Remaining = {}\".format(len(gplay_store)))\n"
   ]
  },
  {
   "cell_type": "markdown",
   "metadata": {},
   "source": [
    "Next, we'll partition the data into 'English primary' and 'non-English primary' apps based on the number of characters in the app names that fall outside of the English ASCII range. We define an app name as 'English primary' if it has three or fewer characters outside the the standard ASCII range ( 0<=ord(c)<=127 ). We allow a few characters outside this range to permit the odd '™' or emoji characters."
   ]
  },
  {
   "cell_type": "code",
   "execution_count": 8,
   "metadata": {
    "collapsed": false
   },
   "outputs": [
    {
     "name": "stdout",
     "output_type": "stream",
     "text": [
      "True\n",
      "False\n",
      "True\n",
      "True\n"
     ]
    }
   ],
   "source": [
    "def is_str_eng(string, tol=0):\n",
    "    MAX_ASCII = 127\n",
    "    count = 0\n",
    "    for char in string:\n",
    "        if ord(char) > MAX_ASCII:\n",
    "            count += 1\n",
    "            if count > tol:\n",
    "                return False\n",
    "    return True\n",
    "\n",
    "print(is_str_eng('Instagram', tol=3))\n",
    "print(is_str_eng('爱奇艺PPS -《欢乐颂2》电视剧热播', tol=3))\n",
    "print(is_str_eng('Docs To Go™ Free Office Suite', tol=3))\n",
    "print(is_str_eng('Instachat 😜', tol=3))"
   ]
  },
  {
   "cell_type": "code",
   "execution_count": 9,
   "metadata": {
    "collapsed": false
   },
   "outputs": [
    {
     "name": "stdout",
     "output_type": "stream",
     "text": [
      "Number of English primary Apple Apps Remaining = 6183\n",
      "Number of English primary Google Play Apps Remaining = 9614\n"
     ]
    }
   ],
   "source": [
    "# Partition datasets into English primary and non-English primary subsets\n",
    "apple_eng = []\n",
    "apple_non_eng = []\n",
    "APP_NAME_INDEX = 1\n",
    "for row in apple_store:\n",
    "    if is_str_eng(row[APP_NAME_INDEX], tol=3):\n",
    "        apple_eng.append(row)\n",
    "    else:\n",
    "        apple_non_eng.append(row)\n",
    "        \n",
    "gplay_eng = []\n",
    "gplay_non_eng = []\n",
    "APP_NAME_INDEX = 0\n",
    "for row in gplay_store:\n",
    "    if is_str_eng(row[APP_NAME_INDEX], tol=3):\n",
    "        gplay_eng.append(row)\n",
    "    else:\n",
    "        gplay_non_eng.append(row)\n",
    "        \n",
    "print(\"Number of English primary Apple Apps Remaining = {}\".format(len(apple_eng)))\n",
    "print(\"Number of English primary Google Play Apps Remaining = {}\".format(len(gplay_eng)))"
   ]
  },
  {
   "cell_type": "code",
   "execution_count": 10,
   "metadata": {
    "collapsed": false
   },
   "outputs": [
    {
     "name": "stdout",
     "output_type": "stream",
     "text": [
      "Number of Free, English primary Apple Apps = 3222\n",
      "Number of Free, English primary Google Play Apps = 8864\n"
     ]
    }
   ],
   "source": [
    "# Partition English primary data into Free and Paid apps\n",
    "apple_free = []\n",
    "apple_paid = []\n",
    "APP_PRICE_INDEX = 4\n",
    "for row in apple_eng:\n",
    "    if float(row[APP_PRICE_INDEX]) == 0.:\n",
    "        apple_free.append(row)\n",
    "    else:\n",
    "        apple_paid.append(row)\n",
    "        \n",
    "gplay_free = []\n",
    "gplay_paid = []\n",
    "APP_PRICE_INDEX = 7\n",
    "for row in gplay_eng:\n",
    "    if float(row[APP_PRICE_INDEX].strip('$')) == 0.:\n",
    "        gplay_free.append(row)\n",
    "    else:\n",
    "        gplay_paid.append(row)\n",
    "        \n",
    "print(\"Number of Free, English primary Apple Apps = {}\".format(len(apple_free)))\n",
    "print(\"Number of Free, English primary Google Play Apps = {}\".format(len(gplay_free)))"
   ]
  },
  {
   "cell_type": "markdown",
   "metadata": {
    "collapsed": true
   },
   "source": [
    "Now that we have a relatively clean dataset for these two app stores, we can start discussing what types of analyses we're going to pursue, and how these analyses will answer some of the questions we posed at the beginning of the notebook.\n",
    "\n",
    "In the synopsis, we stated that our aim was to provide a team of developers a profile of 'successful' free apps on the Google Play and Apple Store markets. Here we will define 'successful' as maximzing the number of downloads (hence maximizing the number of ad impressions). Given this profile of successful apps, our developer team might produce a minimum working example (MWE) that is beta tested on one of the app stores. If that MWE is well recieved by users, the team may decide it's worth developing further to capture a larger share of users or build a second version of the app for other markets. \n",
    "\n",
    "Looking through the datasets, a good place to start building a profile for successful apps is to look at the frequencies of different genres in the `prime_genre` column of the Apple Store data and the `category` and `genres` columns of the Google Play data. This might then be further broken down by the age/content ratings later on."
   ]
  },
  {
   "cell_type": "code",
   "execution_count": 11,
   "metadata": {
    "collapsed": false
   },
   "outputs": [
    {
     "name": "stdout",
     "output_type": "stream",
     "text": [
      "Apple Genre Frequencies:\n",
      "                   count  percentage\n",
      "Games               1874   58.162632\n",
      "Entertainment        254    7.883302\n",
      "Photo & Video        160    4.965860\n",
      "Education            118    3.662322\n",
      "Social Networking    106    3.289882\n",
      "Shopping              84    2.607076\n",
      "Utilities             81    2.513966\n",
      "Sports                69    2.141527\n",
      "Music                 66    2.048417\n",
      "Health & Fitness      65    2.017381\n",
      "Productivity          56    1.738051\n",
      "Lifestyle             51    1.582868\n",
      "News                  43    1.334575\n",
      "Travel                40    1.241465\n",
      "Finance               36    1.117318\n",
      "Weather               28    0.869025\n",
      "Food & Drink          26    0.806952\n",
      "Reference             18    0.558659\n",
      "Business              17    0.527623\n",
      "Book                  14    0.434513\n",
      "Navigation             6    0.186220\n",
      "Medical                6    0.186220\n",
      "Catalogs               4    0.124146\n"
     ]
    }
   ],
   "source": [
    "import pandas as pd\n",
    "apple_dframe = pd.DataFrame(data=apple_free, columns=apple_store_header)\n",
    "apple_dframe.rating_count_tot = pd.to_numeric(apple_dframe.rating_count_tot)\n",
    "\n",
    "gplay_dframe = pd.DataFrame(data=gplay_free, columns=gplay_store_header)\n",
    "\n",
    "APPLE_GENRE_INDEX = 11\n",
    "GPLAY_CAT_INDEX = 1\n",
    "GPLAY_GENRE_INDEX = 9\n",
    "\n",
    "def freq_table(dframe, col_index):\n",
    "    freq = {}\n",
    "    if type(col_index) == int:\n",
    "        df = dframe.iloc[:,col_index]\n",
    "    else:\n",
    "        df = dframe[col_index]\n",
    "    \n",
    "    for row in df:\n",
    "        if row in freq:\n",
    "            freq[row] += 1\n",
    "        else:\n",
    "            freq[row] = 1\n",
    "    \n",
    "    freq_df = pd.DataFrame({'count':freq})\n",
    "    freq_df['percentage'] = (freq_df['count']/freq_df['count'].sum())*100.\n",
    "    return freq_df\n",
    "\n",
    "apple_genre_freq = freq_table(apple_dframe, 'prime_genre')\n",
    "gplay_categories_freq = freq_table(gplay_dframe, 'Category')\n",
    "\n",
    "# Gplay 'Genres' columns requires a little extra work. Column values are ';' seperated list of genres\n",
    "# split values into lists\n",
    "gplay_genres_split = gplay_dframe['Genres'].str.split(\";\")\n",
    "\n",
    "# build dframe to send to freq_table()\n",
    "gplay_genres = []\n",
    "for row in gplay_genres_split:\n",
    "    for val in row:\n",
    "        gplay_genres.append(val)\n",
    "        \n",
    "gplay_genres = pd.DataFrame(data=gplay_genres,columns=['Genres'])\n",
    "gplay_genre_freq = freq_table(gplay_genres, 'Genres')\n",
    "\n",
    "print(\"Apple Genre Frequencies:\")\n",
    "print(apple_genre_freq.sort_values(by='percentage', ascending=False))"
   ]
  },
  {
   "cell_type": "markdown",
   "metadata": {},
   "source": [
    "In the Apple Store dataset, we can see that broadly speaking apps relating to entertainment (Games, Entertainment, and Photo & Video) dominate the market. This is followed by Educational apps and Social Networking apps. More practical apps, like Utilities or Health & Fitness, are relatively more rare. Note that this data relates to the frequency of apps listed on the store and doesn't indicate the popularity among users or success of apps of any genre."
   ]
  },
  {
   "cell_type": "code",
   "execution_count": 12,
   "metadata": {
    "collapsed": false
   },
   "outputs": [
    {
     "name": "stdout",
     "output_type": "stream",
     "text": [
      "+++++++++++++++++++++\n",
      "Gplay Categories Frequencies:\n",
      "                     count  percentage\n",
      "FAMILY                1676   18.907942\n",
      "GAME                   862    9.724729\n",
      "TOOLS                  750    8.461191\n",
      "BUSINESS               407    4.591606\n",
      "LIFESTYLE              346    3.903430\n",
      "PRODUCTIVITY           345    3.892148\n",
      "FINANCE                328    3.700361\n",
      "MEDICAL                313    3.531137\n",
      "SPORTS                 301    3.395758\n",
      "PERSONALIZATION        294    3.316787\n",
      "COMMUNICATION          287    3.237816\n",
      "HEALTH_AND_FITNESS     273    3.079874\n",
      "PHOTOGRAPHY            261    2.944495\n",
      "NEWS_AND_MAGAZINES     248    2.797834\n",
      "SOCIAL                 236    2.662455\n",
      "TRAVEL_AND_LOCAL       207    2.335289\n",
      "SHOPPING               199    2.245036\n",
      "BOOKS_AND_REFERENCE    190    2.143502\n",
      "DATING                 165    1.861462\n",
      "VIDEO_PLAYERS          159    1.793773\n",
      "MAPS_AND_NAVIGATION    124    1.398917\n",
      "FOOD_AND_DRINK         110    1.240975\n",
      "EDUCATION              103    1.162004\n",
      "ENTERTAINMENT           85    0.958935\n",
      "LIBRARIES_AND_DEMO      83    0.936372\n",
      "AUTO_AND_VEHICLES       82    0.925090\n",
      "HOUSE_AND_HOME          73    0.823556\n",
      "WEATHER                 71    0.800993\n",
      "EVENTS                  63    0.710740\n",
      "PARENTING               58    0.654332\n",
      "ART_AND_DESIGN          57    0.643051\n",
      "COMICS                  55    0.620487\n",
      "BEAUTY                  53    0.597924\n"
     ]
    }
   ],
   "source": [
    "print(\"+++++++++++++++++++++\")\n",
    "print(\"Gplay Categories Frequencies:\")\n",
    "print(gplay_categories_freq.sort_values(by='percentage', ascending=False))"
   ]
  },
  {
   "cell_type": "markdown",
   "metadata": {},
   "source": [
    "The Google Play data is dominated by Family and Games. Examining a few pages of the Family category reveals that it's mostly comprised of games for younger children. This is similar to the trend we noted in the Apple Store data. However, after this there appears to be a larger selection of practical apps (tools, business, lifestyle, productivity, and finance)."
   ]
  },
  {
   "cell_type": "code",
   "execution_count": 13,
   "metadata": {
    "collapsed": false
   },
   "outputs": [
    {
     "name": "stdout",
     "output_type": "stream",
     "text": [
      "+++++++++++++++++++++\n",
      "Gplay Genres Frequencies:\n",
      "                         count  percentage\n",
      "Tools                      750    8.165487\n",
      "Education                  606    6.597714\n",
      "Entertainment              569    6.194883\n",
      "Business                   407    4.431138\n",
      "Lifestyle                  347    3.777899\n",
      "Productivity               345    3.756124\n",
      "Finance                    328    3.571040\n",
      "Medical                    313    3.407730\n",
      "Sports                     309    3.364181\n",
      "Personalization            294    3.200871\n",
      "Communication              288    3.135547\n",
      "Action                     284    3.091998\n",
      "Health & Fitness           275    2.994012\n",
      "Photography                261    2.841590\n",
      "News & Magazines           248    2.700054\n",
      "Social                     236    2.569407\n",
      "Casual                     210    2.286336\n",
      "Travel & Local             207    2.253674\n",
      "Shopping                   199    2.166576\n",
      "Books & Reference          191    2.079477\n",
      "Simulation                 191    2.079477\n",
      "Arcade                     176    1.916168\n",
      "Dating                     165    1.796407\n",
      "Video Players & Editors    160    1.741971\n",
      "Maps & Navigation          124    1.350027\n",
      "Puzzle                     121    1.317365\n",
      "Food & Drink               110    1.197605\n",
      "Racing                     104    1.132281\n",
      "Role Playing                91    0.990746\n",
      "Educational                 88    0.958084\n",
      "Strategy                    84    0.914535\n",
      "Libraries & Demo            83    0.903647\n",
      "Auto & Vehicles             82    0.892760\n",
      "Action & Adventure          81    0.881873\n",
      "House & Home                73    0.794774\n",
      "Weather                     71    0.772999\n",
      "Adventure                   64    0.696788\n",
      "Events                      63    0.685901\n",
      "Art & Design                61    0.664126\n",
      "Parenting                   58    0.631464\n",
      "Comics                      55    0.598802\n",
      "Beauty                      53    0.577028\n",
      "Brain Games                 52    0.566140\n",
      "Pretend Play                46    0.500817\n",
      "Board                       43    0.468155\n",
      "Card                        41    0.446380\n",
      "Casino                      38    0.413718\n",
      "Trivia                      38    0.413718\n",
      "Music & Video               30    0.326619\n",
      "Creativity                  28    0.304845\n",
      "Word                        23    0.250408\n",
      "Music                       20    0.217746\n",
      "Music & Audio                1    0.010887\n"
     ]
    }
   ],
   "source": [
    "print(\"+++++++++++++++++++++\")\n",
    "print(\"Gplay Genres Frequencies:\")\n",
    "print(gplay_genre_freq.sort_values(by='percentage', ascending=False))"
   ]
  },
  {
   "cell_type": "markdown",
   "metadata": {
    "collapsed": true
   },
   "source": [
    "The genres column of the Google Play set is essentially a more fine-grain view of the categories column. For the most part it appears to agree with the categories resluts. However, since each app may have multiple genres we lose the one-to-one property of the categories column. It's also likely that some of the genres are strongly correllated with each other (e.g. it's likely that tools correlates with business, lifestyle, and productivity).\n",
    "\n",
    "One thing to remark: this analysis only looks at the number of apps that are listed on the two markets, and so only gives insight into the profile of apps available as a whole, rather than which genres are the most sucessful. So let's incorporate some information about the number of downloads for each genre/category."
   ]
  },
  {
   "cell_type": "code",
   "execution_count": 14,
   "metadata": {
    "collapsed": false
   },
   "outputs": [],
   "source": [
    "apple_dframe.head()\n",
    "apple_genre_freq['avg_review_count'] = None\n",
    "for genre in apple_dframe['prime_genre'].unique():\n",
    "    df = apple_dframe[apple_dframe['prime_genre']==genre]\n",
    "    total_reviews = df['rating_count_tot'].sum()\n",
    "    count = apple_genre_freq.loc[genre,'count']\n",
    "    avg_review_count = total_reviews/count\n",
    "    \n",
    "    apple_genre_freq.loc[genre,'avg_review_count'] = avg_review_count"
   ]
  },
  {
   "cell_type": "code",
   "execution_count": 15,
   "metadata": {
    "collapsed": false
   },
   "outputs": [
    {
     "name": "stdout",
     "output_type": "stream",
     "text": [
      "Apple Genre Frequencies:\n",
      "                   count  percentage avg_review_count\n",
      "Navigation             6    0.186220          86090.3\n",
      "Reference             18    0.558659          74942.1\n",
      "Social Networking    106    3.289882          71548.3\n",
      "Music                 66    2.048417          57326.5\n",
      "Weather               28    0.869025          52279.9\n",
      "Book                  14    0.434513          39758.5\n",
      "Food & Drink          26    0.806952          33333.9\n",
      "Finance               36    1.117318          31467.9\n",
      "Photo & Video        160    4.965860          28441.5\n",
      "Travel                40    1.241465          28243.8\n",
      "Shopping              84    2.607076          26919.7\n",
      "Health & Fitness      65    2.017381            23298\n",
      "Sports                69    2.141527          23008.9\n",
      "Games               1874   58.162632          22788.7\n",
      "News                  43    1.334575            21248\n",
      "Productivity          56    1.738051          21028.4\n",
      "Utilities             81    2.513966          18684.5\n",
      "Lifestyle             51    1.582868          16485.8\n",
      "Entertainment        254    7.883302          14029.8\n",
      "Business              17    0.527623          7491.12\n",
      "Education            118    3.662322          7003.98\n",
      "Catalogs               4    0.124146             4004\n",
      "Medical                6    0.186220              612\n"
     ]
    }
   ],
   "source": [
    "print(\"Apple Genre Frequencies:\")\n",
    "print(apple_genre_freq.sort_values(by=['avg_review_count','percentage'], ascending=False))"
   ]
  },
  {
   "cell_type": "markdown",
   "metadata": {},
   "source": [
    "Including the number of average reviews for apps indicates that Navigation, Reference, Social Networking, Music, and Weather apps appear to have significantly more reviews on average. However the counts for some of these app genres are relatively small which hints that this data might be skewed by some extremely popular apps. Investigating reveals this to be the case:"
   ]
  },
  {
   "cell_type": "code",
   "execution_count": 16,
   "metadata": {
    "collapsed": false
   },
   "outputs": [
    {
     "name": "stdout",
     "output_type": "stream",
     "text": [
      "                                            track_name prime_genre  \\\n",
      "43     Waze - GPS Navigation, Maps & Real-time Traffic  Navigation   \n",
      "118                 Google Maps - Navigation & Transit  Navigation   \n",
      "712                                        Geocaching®  Navigation   \n",
      "1173       CoPilot GPS – Car Navigation & Offline Maps  Navigation   \n",
      "2322  ImmobilienScout24: Real Estate Search in Germany  Navigation   \n",
      "3014                              Railway Route Search  Navigation   \n",
      "\n",
      "      rating_count_tot  \n",
      "43              345046  \n",
      "118             154911  \n",
      "712              12811  \n",
      "1173              3582  \n",
      "2322               187  \n",
      "3014                 5  \n"
     ]
    }
   ],
   "source": [
    "criteria = apple_dframe.prime_genre == 'Navigation'\n",
    "df = apple_dframe[criteria][['track_name','prime_genre', 'rating_count_tot']]\n",
    "\n",
    "print(df.sort_values(by='rating_count_tot', ascending=False))"
   ]
  },
  {
   "cell_type": "markdown",
   "metadata": {},
   "source": [
    "The Waze and Google Maps navigation apps have well over an order of magnitude more reviews than the rest of the set which barely break 10k reviews, so the result is skewed. This is the case for many other genres as well. In general, it would be best to filter out as many of these outliers as possible to get a better sense of user engagement for a certain genre. However, we leave that for later."
   ]
  },
  {
   "cell_type": "code",
   "execution_count": 17,
   "metadata": {
    "collapsed": false
   },
   "outputs": [
    {
     "name": "stdout",
     "output_type": "stream",
     "text": [
      "                                             track_name prime_genre  \\\n",
      "6                                                 Bible   Reference   \n",
      "80                Dictionary.com Dictionary & Thesaurus   Reference   \n",
      "304      Dictionary.com Dictionary & Thesaurus for iPad   Reference   \n",
      "474                                    Google Translate   Reference   \n",
      "597   Muslim Pro: Ramadan 2017 Prayer Times, Azan, Q...   Reference   \n",
      "612   New Furniture Mods - Pocket Wiki & Game Tools ...   Reference   \n",
      "628                          Merriam-Webster Dictionary   Reference   \n",
      "732                                           Night Sky   Reference   \n",
      "850   City Maps for Minecraft PE - The Best Maps for...   Reference   \n",
      "1064  LUCKY BLOCK MOD ™ for Minecraft PC Edition - T...   Reference   \n",
      "1522    GUNS MODS for Minecraft PC Edition - Mods Tools   Reference   \n",
      "1747  Guides for Pokémon GO - Pokemon GO News and Ch...   Reference   \n",
      "1791                                               WWDC   Reference   \n",
      "1815  Horror Maps for Minecraft PE - Download The Sc...   Reference   \n",
      "2941                                        VPN Express   Reference   \n",
      "2986    Real Bike Traffic Rider Virtual Reality Glasses   Reference   \n",
      "3085                                            教えて!goo   Reference   \n",
      "3199  Jishokun-Japanese English Dictionary & Translator   Reference   \n",
      "\n",
      "      rating_count_tot  \n",
      "6               985920  \n",
      "80              200047  \n",
      "304              54175  \n",
      "474              26786  \n",
      "597              18418  \n",
      "612              17588  \n",
      "628              16849  \n",
      "732              12122  \n",
      "850               8535  \n",
      "1064              4693  \n",
      "1522              1497  \n",
      "1747               826  \n",
      "1791               762  \n",
      "1815               718  \n",
      "2941                14  \n",
      "2986                 8  \n",
      "3085                 0  \n",
      "3199                 0  \n"
     ]
    }
   ],
   "source": [
    "criteria = apple_dframe.prime_genre == 'Reference'\n",
    "df = apple_dframe[criteria][['track_name','prime_genre', 'rating_count_tot']]\n",
    "\n",
    "print(df.sort_values(by='rating_count_tot', ascending=False))"
   ]
  },
  {
   "cell_type": "markdown",
   "metadata": {},
   "source": [
    "The reference genre shows some promise, with a good number of apps recieving well over 10k reviews."
   ]
  },
  {
   "cell_type": "code",
   "execution_count": 18,
   "metadata": {
    "collapsed": false
   },
   "outputs": [
    {
     "name": "stdout",
     "output_type": "stream",
     "text": [
      "                                             track_name        prime_genre  \\\n",
      "0                                              Facebook  Social Networking   \n",
      "5                                             Pinterest  Social Networking   \n",
      "38                                     Skype for iPhone  Social Networking   \n",
      "42                                            Messenger  Social Networking   \n",
      "45                                               Tumblr  Social Networking   \n",
      "56                                   WhatsApp Messenger  Social Networking   \n",
      "64                                                  Kik  Social Networking   \n",
      "100             ooVoo – Free Video Call, Text and Voice  Social Networking   \n",
      "106                    TextNow - Unlimited Text + Calls  Social Networking   \n",
      "109                       Viber Messenger – Text & Call  Social Networking   \n",
      "171          Followers - Social Analytics For Instagram  Social Networking   \n",
      "205                   MeetMe - Chat and Meet New People  Social Networking   \n",
      "211   We Heart It - Fashion, wallpapers, quotes, tat...  Social Networking   \n",
      "219        InsTrack for Instagram - Analytics Plus More  Social Networking   \n",
      "242             Tango - Free Video Call, Voice and Chat  Social Networking   \n",
      "246                                            LinkedIn  Social Networking   \n",
      "269                             Match™ - #1 Dating App.  Social Networking   \n",
      "276                                      Skype for iPad  Social Networking   \n",
      "312             POF - Best Dating App for Conversations  Social Networking   \n",
      "319                                             Timehop  Social Networking   \n",
      "347   Find My Family, Friends & iPhone - Life360 Loc...  Social Networking   \n",
      "367                      Whisper - Share, Express, Meet  Social Networking   \n",
      "388                                            Hangouts  Social Networking   \n",
      "400                       LINE PLAY - Your Avatar World  Social Networking   \n",
      "402                                              WeChat  Social Networking   \n",
      "404           Badoo - Meet New People, Chat, Socialize.  Social Networking   \n",
      "454      Followers + for Instagram - Follower Analytics  Social Networking   \n",
      "459                                             GroupMe  Social Networking   \n",
      "468                      Marco Polo Video Walkie Talkie  Social Networking   \n",
      "508                                             Miitomo  Social Networking   \n",
      "...                                                 ...                ...   \n",
      "1942                       Chat for Pokemon Go - GoChat  Social Networking   \n",
      "1972  IAmNaughty – Dating App to Meet New People Online  Social Networking   \n",
      "1974                                           Qzone HD  Social Networking   \n",
      "2009            Zenly - Locate your friends in realtime  Social Networking   \n",
      "2019                          League of Legends Friends  Social Networking   \n",
      "2030                                                 豆瓣  Social Networking   \n",
      "2039                    Candid - Speak Your Mind Freely  Social Networking   \n",
      "2043                                                 知乎  Social Networking   \n",
      "2069                                             Selfeo  Social Networking   \n",
      "2085                             Fake-A-Location Free ™  Social Networking   \n",
      "2172                    Popcorn Buzz - Free Group Calls  Social Networking   \n",
      "2178             Fam — Group video calling for iMessage  Social Networking   \n",
      "2183                                   QQ International  Social Networking   \n",
      "2188                                              Ameba  Social Networking   \n",
      "2226                     SoundCloud Pulse: for creators  Social Networking   \n",
      "2236                                             Tantan  Social Networking   \n",
      "2279    Cougar Dating & Life Style App for Mature Women  Social Networking   \n",
      "2330                     Rawr Messenger - Dab your chat  Social Networking   \n",
      "2380  WhenToPost: Best Time to Post Photos for Insta...  Social Networking   \n",
      "2405                     Inke—Broadcast an amazing life  Social Networking   \n",
      "2719                     Mustknow - anonymous video Q&A  Social Networking   \n",
      "2792                                          CTFxCmoji  Social Networking   \n",
      "2813                                               Lobi  Social Networking   \n",
      "2817    Chain: Collaborate On MyVideo Story/Group Video  Social Networking   \n",
      "2997                      botman - Real time video chat  Social Networking   \n",
      "3086                                          BestieBox  Social Networking   \n",
      "3167                                 MATCH ON LINE chat  Social Networking   \n",
      "3170                                        niconico ch  Social Networking   \n",
      "3203                                          LINE BLOG  Social Networking   \n",
      "3207                  bit-tube - Live Stream Video Chat  Social Networking   \n",
      "\n",
      "      rating_count_tot  \n",
      "0              2974676  \n",
      "5              1061624  \n",
      "38              373519  \n",
      "42              351466  \n",
      "45              334293  \n",
      "56              287589  \n",
      "64              260965  \n",
      "100             177501  \n",
      "106             164963  \n",
      "109             164249  \n",
      "171             112778  \n",
      "205              97072  \n",
      "211              90414  \n",
      "219              85535  \n",
      "242              75412  \n",
      "246              71856  \n",
      "269              60659  \n",
      "276              60163  \n",
      "312              52642  \n",
      "319              49510  \n",
      "347              43877  \n",
      "367              39819  \n",
      "388              36404  \n",
      "400              34677  \n",
      "402              34584  \n",
      "404              34428  \n",
      "454              28633  \n",
      "459              28260  \n",
      "468              27662  \n",
      "508              23965  \n",
      "...                ...  \n",
      "1942               500  \n",
      "1972               463  \n",
      "1974               458  \n",
      "2009               427  \n",
      "2019               420  \n",
      "2030               407  \n",
      "2039               398  \n",
      "2043               397  \n",
      "2069               366  \n",
      "2085               354  \n",
      "2172               281  \n",
      "2178               279  \n",
      "2183               274  \n",
      "2188               269  \n",
      "2226               240  \n",
      "2236               235  \n",
      "2279               213  \n",
      "2330               180  \n",
      "2380               158  \n",
      "2405               147  \n",
      "2719                53  \n",
      "2792                39  \n",
      "2813                36  \n",
      "2817                35  \n",
      "2997                 7  \n",
      "3086                 0  \n",
      "3167                 0  \n",
      "3170                 0  \n",
      "3203                 0  \n",
      "3207                 0  \n",
      "\n",
      "[106 rows x 3 columns]\n"
     ]
    }
   ],
   "source": [
    "criteria = apple_dframe.prime_genre == 'Social Networking'\n",
    "df = apple_dframe[criteria][['track_name','prime_genre', 'rating_count_tot']]\n",
    "\n",
    "print(df.sort_values(by='rating_count_tot', ascending=False))"
   ]
  },
  {
   "cell_type": "markdown",
   "metadata": {},
   "source": [
    "Social networking apps also feature a large number of apps with large engagement, although the number of apps listed on the market suggests it may be saturated. Other apps worth looking into might be music, weather, books, or finance.\n",
    "\n",
    "Next let's look at the Google Play data again. "
   ]
  },
  {
   "cell_type": "code",
   "execution_count": 22,
   "metadata": {
    "collapsed": false
   },
   "outputs": [
    {
     "ename": "AttributeError",
     "evalue": "'int' object has no attribute 'replace'",
     "output_type": "error",
     "traceback": [
      "\u001b[1;31m\u001b[0m",
      "\u001b[1;31mAttributeError\u001b[0mTraceback (most recent call last)",
      "\u001b[1;32m<ipython-input-22-17509c5f0421>\u001b[0m in \u001b[0;36m<module>\u001b[1;34m()\u001b[0m\n\u001b[0;32m      1\u001b[0m \u001b[0mgplay_categories_freq\u001b[0m\u001b[1;33m[\u001b[0m\u001b[1;34m'avg_installs'\u001b[0m\u001b[1;33m]\u001b[0m \u001b[1;33m=\u001b[0m \u001b[1;32mNone\u001b[0m\u001b[1;33m\u001b[0m\u001b[0m\n\u001b[1;32m----> 2\u001b[1;33m \u001b[0mgplay_dframe\u001b[0m\u001b[1;33m.\u001b[0m\u001b[0mInstalls\u001b[0m \u001b[1;33m=\u001b[0m \u001b[0mpd\u001b[0m\u001b[1;33m.\u001b[0m\u001b[0mto_numeric\u001b[0m\u001b[1;33m(\u001b[0m\u001b[0mgplay_dframe\u001b[0m\u001b[1;33m.\u001b[0m\u001b[0mInstalls\u001b[0m\u001b[1;33m.\u001b[0m\u001b[0mapply\u001b[0m\u001b[1;33m(\u001b[0m\u001b[1;32mlambda\u001b[0m \u001b[0mx\u001b[0m\u001b[1;33m:\u001b[0m \u001b[0mx\u001b[0m\u001b[1;33m.\u001b[0m\u001b[0mreplace\u001b[0m\u001b[1;33m(\u001b[0m\u001b[1;34m'+'\u001b[0m\u001b[1;33m,\u001b[0m \u001b[1;34m''\u001b[0m\u001b[1;33m)\u001b[0m\u001b[1;33m.\u001b[0m\u001b[0mreplace\u001b[0m\u001b[1;33m(\u001b[0m\u001b[1;34m','\u001b[0m\u001b[1;33m,\u001b[0m\u001b[1;34m''\u001b[0m\u001b[1;33m)\u001b[0m\u001b[1;33m)\u001b[0m\u001b[1;33m)\u001b[0m\u001b[1;33m\u001b[0m\u001b[0m\n\u001b[0m\u001b[0;32m      3\u001b[0m \u001b[1;33m\u001b[0m\u001b[0m\n\u001b[0;32m      4\u001b[0m \u001b[1;33m\u001b[0m\u001b[0m\n\u001b[0;32m      5\u001b[0m \u001b[1;32mfor\u001b[0m \u001b[0mgenre\u001b[0m \u001b[1;32min\u001b[0m \u001b[0mgplay_dframe\u001b[0m\u001b[1;33m[\u001b[0m\u001b[1;34m'Category'\u001b[0m\u001b[1;33m]\u001b[0m\u001b[1;33m.\u001b[0m\u001b[0munique\u001b[0m\u001b[1;33m(\u001b[0m\u001b[1;33m)\u001b[0m\u001b[1;33m:\u001b[0m\u001b[1;33m\u001b[0m\u001b[0m\n",
      "\u001b[1;32m/dataquest/system/env/python3/lib/python3.4/site-packages/pandas/core/series.py\u001b[0m in \u001b[0;36mapply\u001b[1;34m(self, func, convert_dtype, args, **kwds)\u001b[0m\n\u001b[0;32m   2549\u001b[0m             \u001b[1;32melse\u001b[0m\u001b[1;33m:\u001b[0m\u001b[1;33m\u001b[0m\u001b[0m\n\u001b[0;32m   2550\u001b[0m                 \u001b[0mvalues\u001b[0m \u001b[1;33m=\u001b[0m \u001b[0mself\u001b[0m\u001b[1;33m.\u001b[0m\u001b[0masobject\u001b[0m\u001b[1;33m\u001b[0m\u001b[0m\n\u001b[1;32m-> 2551\u001b[1;33m                 \u001b[0mmapped\u001b[0m \u001b[1;33m=\u001b[0m \u001b[0mlib\u001b[0m\u001b[1;33m.\u001b[0m\u001b[0mmap_infer\u001b[0m\u001b[1;33m(\u001b[0m\u001b[0mvalues\u001b[0m\u001b[1;33m,\u001b[0m \u001b[0mf\u001b[0m\u001b[1;33m,\u001b[0m \u001b[0mconvert\u001b[0m\u001b[1;33m=\u001b[0m\u001b[0mconvert_dtype\u001b[0m\u001b[1;33m)\u001b[0m\u001b[1;33m\u001b[0m\u001b[0m\n\u001b[0m\u001b[0;32m   2552\u001b[0m \u001b[1;33m\u001b[0m\u001b[0m\n\u001b[0;32m   2553\u001b[0m         \u001b[1;32mif\u001b[0m \u001b[0mlen\u001b[0m\u001b[1;33m(\u001b[0m\u001b[0mmapped\u001b[0m\u001b[1;33m)\u001b[0m \u001b[1;32mand\u001b[0m \u001b[0misinstance\u001b[0m\u001b[1;33m(\u001b[0m\u001b[0mmapped\u001b[0m\u001b[1;33m[\u001b[0m\u001b[1;36m0\u001b[0m\u001b[1;33m]\u001b[0m\u001b[1;33m,\u001b[0m \u001b[0mSeries\u001b[0m\u001b[1;33m)\u001b[0m\u001b[1;33m:\u001b[0m\u001b[1;33m\u001b[0m\u001b[0m\n",
      "\u001b[1;32mpandas/_libs/src/inference.pyx\u001b[0m in \u001b[0;36mpandas._libs.lib.map_infer\u001b[1;34m()\u001b[0m\n",
      "\u001b[1;32m<ipython-input-22-17509c5f0421>\u001b[0m in \u001b[0;36m<lambda>\u001b[1;34m(x)\u001b[0m\n\u001b[0;32m      1\u001b[0m \u001b[0mgplay_categories_freq\u001b[0m\u001b[1;33m[\u001b[0m\u001b[1;34m'avg_installs'\u001b[0m\u001b[1;33m]\u001b[0m \u001b[1;33m=\u001b[0m \u001b[1;32mNone\u001b[0m\u001b[1;33m\u001b[0m\u001b[0m\n\u001b[1;32m----> 2\u001b[1;33m \u001b[0mgplay_dframe\u001b[0m\u001b[1;33m.\u001b[0m\u001b[0mInstalls\u001b[0m \u001b[1;33m=\u001b[0m \u001b[0mpd\u001b[0m\u001b[1;33m.\u001b[0m\u001b[0mto_numeric\u001b[0m\u001b[1;33m(\u001b[0m\u001b[0mgplay_dframe\u001b[0m\u001b[1;33m.\u001b[0m\u001b[0mInstalls\u001b[0m\u001b[1;33m.\u001b[0m\u001b[0mapply\u001b[0m\u001b[1;33m(\u001b[0m\u001b[1;32mlambda\u001b[0m \u001b[0mx\u001b[0m\u001b[1;33m:\u001b[0m \u001b[0mx\u001b[0m\u001b[1;33m.\u001b[0m\u001b[0mreplace\u001b[0m\u001b[1;33m(\u001b[0m\u001b[1;34m'+'\u001b[0m\u001b[1;33m,\u001b[0m \u001b[1;34m''\u001b[0m\u001b[1;33m)\u001b[0m\u001b[1;33m.\u001b[0m\u001b[0mreplace\u001b[0m\u001b[1;33m(\u001b[0m\u001b[1;34m','\u001b[0m\u001b[1;33m,\u001b[0m\u001b[1;34m''\u001b[0m\u001b[1;33m)\u001b[0m\u001b[1;33m)\u001b[0m\u001b[1;33m)\u001b[0m\u001b[1;33m\u001b[0m\u001b[0m\n\u001b[0m\u001b[0;32m      3\u001b[0m \u001b[1;33m\u001b[0m\u001b[0m\n\u001b[0;32m      4\u001b[0m \u001b[1;33m\u001b[0m\u001b[0m\n\u001b[0;32m      5\u001b[0m \u001b[1;32mfor\u001b[0m \u001b[0mgenre\u001b[0m \u001b[1;32min\u001b[0m \u001b[0mgplay_dframe\u001b[0m\u001b[1;33m[\u001b[0m\u001b[1;34m'Category'\u001b[0m\u001b[1;33m]\u001b[0m\u001b[1;33m.\u001b[0m\u001b[0munique\u001b[0m\u001b[1;33m(\u001b[0m\u001b[1;33m)\u001b[0m\u001b[1;33m:\u001b[0m\u001b[1;33m\u001b[0m\u001b[0m\n",
      "\u001b[1;31mAttributeError\u001b[0m: 'int' object has no attribute 'replace'"
     ]
    }
   ],
   "source": [
    "gplay_categories_freq['avg_installs'] = None\n",
    "gplay_dframe.Installs = pd.to_numeric(gplay_dframe.Installs.apply(lambda x: x.replace('+', '').replace(',','')))\n",
    "\n",
    "\n",
    "for genre in gplay_dframe['Category'].unique():\n",
    "    df = gplay_dframe[gplay_dframe.Category==genre]\n",
    "    total_installs = df.Installs.sum()\n",
    "    count = gplay_categories_freq.loc[genre,'count']\n",
    "    avg_install_count = total_installs/count\n",
    "    \n",
    "    gplay_categories_freq.loc[genre,'avg_installs'] = avg_install_count"
   ]
  },
  {
   "cell_type": "code",
   "execution_count": 20,
   "metadata": {
    "collapsed": false
   },
   "outputs": [
    {
     "name": "stdout",
     "output_type": "stream",
     "text": [
      "Gplay Category Frequencies:\n",
      "                     count  percentage avg_installs\n",
      "BEAUTY                  53    0.597924       69.283\n",
      "COMICS                  55    0.620487      66.7636\n",
      "ART_AND_DESIGN          57    0.643051      64.4211\n",
      "PARENTING               58    0.654332      63.3103\n",
      "EVENTS                  63    0.710740      58.2857\n",
      "WEATHER                 71    0.800993      51.7183\n",
      "HOUSE_AND_HOME          73    0.823556      50.3014\n",
      "AUTO_AND_VEHICLES       82    0.925090      44.7805\n",
      "LIBRARIES_AND_DEMO      83    0.936372       44.241\n",
      "ENTERTAINMENT           85    0.958935         43.2\n",
      "EDUCATION              103    1.162004      35.6505\n",
      "FOOD_AND_DRINK         110    1.240975      33.3818\n",
      "MAPS_AND_NAVIGATION    124    1.398917      29.6129\n",
      "VIDEO_PLAYERS          159    1.793773      23.0943\n",
      "DATING                 165    1.861462      22.2545\n",
      "BOOKS_AND_REFERENCE    190    2.143502      19.3263\n",
      "SHOPPING               199    2.245036      18.4523\n",
      "TRAVEL_AND_LOCAL       207    2.335289      17.7391\n",
      "SOCIAL                 236    2.662455      15.5593\n",
      "NEWS_AND_MAGAZINES     248    2.797834      14.8065\n",
      "PHOTOGRAPHY            261    2.944495       14.069\n",
      "HEALTH_AND_FITNESS     273    3.079874      13.4505\n",
      "COMMUNICATION          287    3.237816      12.7944\n",
      "PERSONALIZATION        294    3.316787      12.4898\n",
      "SPORTS                 301    3.395758      12.1993\n",
      "MEDICAL                313    3.531137      11.7316\n",
      "FINANCE                328    3.700361      11.1951\n",
      "PRODUCTIVITY           345    3.892148      10.6435\n",
      "LIFESTYLE              346    3.903430      10.6127\n",
      "BUSINESS               407    4.591606      9.02211\n",
      "TOOLS                  750    8.461191        4.896\n",
      "GAME                   862    9.724729      4.25986\n",
      "FAMILY                1676   18.907942      2.19093\n"
     ]
    }
   ],
   "source": [
    "print(\"Gplay Category Frequencies:\")\n",
    "print(gplay_categories_freq.sort_values(by=['avg_installs','percentage'], ascending=False))"
   ]
  },
  {
   "cell_type": "code",
   "execution_count": 21,
   "metadata": {
    "collapsed": false
   },
   "outputs": [
    {
     "name": "stdout",
     "output_type": "stream",
     "text": [
      "                                                    App       Category  \\\n",
      "277                                  WhatsApp Messenger  COMMUNICATION   \n",
      "302            Messenger – Text and Video Chat for Free  COMMUNICATION   \n",
      "356                                            Hangouts  COMMUNICATION   \n",
      "318                        Google Chrome: Fast & Secure  COMMUNICATION   \n",
      "306                       Skype - free IM & video calls  COMMUNICATION   \n",
      "344                                               Gmail  COMMUNICATION   \n",
      "314                         LINE: Free Calls & Messages  COMMUNICATION   \n",
      "3372                                    Viber Messenger  COMMUNICATION   \n",
      "322         UC Browser - Fast Download Private & Secure  COMMUNICATION   \n",
      "294               Google Duo - High Quality Video Calls  COMMUNICATION   \n",
      "303                       imo free video calls and chat  COMMUNICATION   \n",
      "307                                                 Who  COMMUNICATION   \n",
      "3332        UC Browser Mini -Tiny Fast Private & Secure  COMMUNICATION   \n",
      "3310  Truecaller: Caller ID, SMS spam blocking & Dialer  COMMUNICATION   \n",
      "3301                                           Telegram  COMMUNICATION   \n",
      "319                      Firefox Browser fast & private  COMMUNICATION   \n",
      "280                        imo beta free calls and text  COMMUNICATION   \n",
      "3177                     Opera Browser: Fast and Secure  COMMUNICATION   \n",
      "3176                      Opera Mini - fast web browser  COMMUNICATION   \n",
      "3085                       KakaoTalk: Free Calls & Text  COMMUNICATION   \n",
      "3068                                                Kik  COMMUNICATION   \n",
      "2952              Messenger Lite: Free Calls & Messages  COMMUNICATION   \n",
      "4898                        BBM - Free Calls & Messages  COMMUNICATION   \n",
      "3401                                             WeChat  COMMUNICATION   \n",
      "308          GO SMS Pro - Messenger, Free Themes, Emoji  COMMUNICATION   \n",
      "3467                        Yahoo Mail – Stay Organized  COMMUNICATION   \n",
      "293                                    Android Messages  COMMUNICATION   \n",
      "281                                            Contacts  COMMUNICATION   \n",
      "3597  CM Browser - Ad Blocker , Fast Download , Privacy  COMMUNICATION   \n",
      "351                                 Mail.Ru - Email App  COMMUNICATION   \n",
      "...                                                 ...            ...   \n",
      "6288                                   CW Bluetooth SPP  COMMUNICATION   \n",
      "3862                                           Aj.Petra  COMMUNICATION   \n",
      "7436                                       [EF]ShoutBox  COMMUNICATION   \n",
      "6285                                        C W Browser  COMMUNICATION   \n",
      "8735                                  FO STELIA Méaulte  COMMUNICATION   \n",
      "8729                                   FO PSA Sept-Fons  COMMUNICATION   \n",
      "5609                        CF Chat: Connecting Friends  COMMUNICATION   \n",
      "7804                                      EP RSS Reader  COMMUNICATION   \n",
      "5136                                          BS-Mobile  COMMUNICATION   \n",
      "5519                                         Cb browser  COMMUNICATION   \n",
      "6733                                      DK TEL Dialer  COMMUNICATION   \n",
      "4893                                              AC-BL  COMMUNICATION   \n",
      "6342                              Hyundai CX Conference  COMMUNICATION   \n",
      "7638                                             Ek IRA  COMMUNICATION   \n",
      "8777                                            FP Live  COMMUNICATION   \n",
      "6726                                         DK Browser  COMMUNICATION   \n",
      "4541                  Best Browser BD social networking  COMMUNICATION   \n",
      "6412                                 Hlášenírozhlasu.cz  COMMUNICATION   \n",
      "7542                                                 ei  COMMUNICATION   \n",
      "7585                                       EJ messenger  COMMUNICATION   \n",
      "7762                                          EO Mumbai  COMMUNICATION   \n",
      "5819                                        CK Call NEW  COMMUNICATION   \n",
      "4795                                  BJ - Confidential  COMMUNICATION   \n",
      "6781                     DM - The Offical Messaging App  COMMUNICATION   \n",
      "3724                          Oklahoma Ag Co-op Council  COMMUNICATION   \n",
      "8709                                   FNH Payment Info  COMMUNICATION   \n",
      "8707                                       FN Web Radio  COMMUNICATION   \n",
      "8232                                 Test Server SMS FA  COMMUNICATION   \n",
      "4860                             Of the wall Arapaho bk  COMMUNICATION   \n",
      "4435                                           BA SALES  COMMUNICATION   \n",
      "\n",
      "        Installs  \n",
      "277   1000000000  \n",
      "302   1000000000  \n",
      "356   1000000000  \n",
      "318   1000000000  \n",
      "306   1000000000  \n",
      "344   1000000000  \n",
      "314    500000000  \n",
      "3372   500000000  \n",
      "322    500000000  \n",
      "294    500000000  \n",
      "303    500000000  \n",
      "307    100000000  \n",
      "3332   100000000  \n",
      "3310   100000000  \n",
      "3301   100000000  \n",
      "319    100000000  \n",
      "280    100000000  \n",
      "3177   100000000  \n",
      "3176   100000000  \n",
      "3085   100000000  \n",
      "3068   100000000  \n",
      "2952   100000000  \n",
      "4898   100000000  \n",
      "3401   100000000  \n",
      "308    100000000  \n",
      "3467   100000000  \n",
      "293    100000000  \n",
      "281     50000000  \n",
      "3597    50000000  \n",
      "351     50000000  \n",
      "...          ...  \n",
      "6288         100  \n",
      "3862         100  \n",
      "7436         100  \n",
      "6285         100  \n",
      "8735         100  \n",
      "8729         100  \n",
      "5609         100  \n",
      "7804         100  \n",
      "5136          50  \n",
      "5519          50  \n",
      "6733          50  \n",
      "4893          50  \n",
      "6342          50  \n",
      "7638          10  \n",
      "8777          10  \n",
      "6726          10  \n",
      "4541          10  \n",
      "6412          10  \n",
      "7542          10  \n",
      "7585          10  \n",
      "7762          10  \n",
      "5819          10  \n",
      "4795          10  \n",
      "6781          10  \n",
      "3724          10  \n",
      "8709          10  \n",
      "8707          10  \n",
      "8232           5  \n",
      "4860           5  \n",
      "4435           1  \n",
      "\n",
      "[287 rows x 3 columns]\n"
     ]
    }
   ],
   "source": [
    "criteria = gplay_dframe.Category == 'COMMUNICATION'\n",
    "df = gplay_dframe[criteria][['App','Category', 'Installs']]\n",
    "\n",
    "print(df.sort_values(by='Installs', ascending=False))"
   ]
  },
  {
   "cell_type": "markdown",
   "metadata": {},
   "source": [
    "Once again we see that the number of reviews for many of the categories are dominated by a handful of very popular apps. However, "
   ]
  }
 ],
 "metadata": {
  "kernelspec": {
   "display_name": "Python 3",
   "language": "python",
   "name": "python3"
  },
  "language_info": {
   "codemirror_mode": {
    "name": "ipython",
    "version": 3
   },
   "file_extension": ".py",
   "mimetype": "text/x-python",
   "name": "python",
   "nbconvert_exporter": "python",
   "pygments_lexer": "ipython3",
   "version": "3.4.3"
  }
 },
 "nbformat": 4,
 "nbformat_minor": 2
}
