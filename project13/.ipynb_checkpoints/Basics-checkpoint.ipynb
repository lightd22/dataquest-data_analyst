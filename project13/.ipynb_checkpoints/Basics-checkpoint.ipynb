{
 "cells": [
  {
   "cell_type": "markdown",
   "metadata": {
    "collapsed": true
   },
   "source": [
    "# Mobile App for Lottery Addiction\n",
    "\n",
    "Playing in lotteries is an activity that many pursue initially for fun. However, for a significant segment of these people this form of gambling turns into a habit that can eventually escalate into addiction. Like other forms of compulsive gambling, lottery addicts risk spending from savings and are critically suceptible to predatory loans that can lead to accumulating debts. Most lottery addicts suffer from difficulty estimating the true odds of winning (which is often intentionally confounded by lottery designs) as well as the classic \"gambler's fallacy\" which leads to the notion that \"a gamblers luck can turn around\".\n",
    "\n",
    "In this project, we'll imagine that a medical institute that aims to prevent and treat gambling addictions wants to build a dedicated mobile app to help lottery addicts better estimate their chances of winning. The institute has a team of engineers that will build the app, so our role is to create the logical core of the app and calculate probabilities. \n",
    "\n",
    "For our first efforts we're going to focus on accurately capturing the behavior of the national [Canadian Lotto 6/49](https://en.wikipedia.org/wiki/Lotto_6/49). Lotto 6/49 is a lottery in which a total of six numbers ranging from 1 to 49 are drawn from a pool of forty-nine. If a ticket matches all six numbers exactly, a jackpot prize of at least $5,000,000 CAD is won. To train our model, we'll use a historical dataset of 3,665 drawings dating from 1982 to 2018 [hosted by Kaggle](https://www.kaggle.com/datascienceai/lottery-dataset).\n",
    "\n",
    "Throughout this project we will seek to answer the following questions:\n",
    "- What is the probability of winning the big prize with a single ticket?\n",
    "- What is the probability of winning the big prize if we play 40 different tickets (or any other number)?\n",
    "- What is the probability of having at least five (or four, or three, or two) winning numbers on a single ticket?\n"
   ]
  },
  {
   "cell_type": "code",
   "execution_count": 1,
   "metadata": {},
   "outputs": [],
   "source": [
    "# Basic combinatorial functions\n",
    "def factorial(n: int) -> int:\n",
    "    \"\"\"\n",
    "    Returns the value of n! = n*(n-1)*(n-2)*...*1\n",
    "    Inputs:\n",
    "        n | int | value used to compute n!\n",
    "    Returns:\n",
    "        n! | int \n",
    "    \"\"\"\n",
    "    fac = 1\n",
    "    for k in range(n):\n",
    "        fac *= (k+1)\n",
    "    return fac\n",
    "\n",
    "def combinations(n: int, k: int) -> int:\n",
    "    \"\"\"\n",
    "    Returns the number of combinations from a set of n items chosen k at a time.\n",
    "    Inputs:\n",
    "        n | int | number of items in set to pull from\n",
    "        k | int | number of items chosen for each combination\n",
    "    Returns\n",
    "        C(n,k) | int | number of combinations of k items chosen from a set of n items.\n",
    "    \"\"\"\n",
    "    assert k <= n, \"n must be greater than or equal to k.\"\n",
    "    return factorial(n)/(factorial(n-k)*factorial(k))"
   ]
  },
  {
   "cell_type": "markdown",
   "metadata": {},
   "source": [
    "Next, we'll look into calculating the probability of winning the jackbox given the numbers for a single ticket. The ticket will be represented by a Python list of six numbers. We'll try presenting the probability of winning in two ways: as a percentage and as a (sort-of) odds."
   ]
  },
  {
   "cell_type": "code",
   "execution_count": 2,
   "metadata": {},
   "outputs": [],
   "source": [
    "def one_ticket_prob(lst: list) -> float:\n",
    "    \"\"\"\n",
    "    Computes the probability of winning for a given ticket represented by a list of 6 integers.\n",
    "    Inputs:\n",
    "        lst | list(int) | list representing the given ticket of lottery numbers\n",
    "    Returns:\n",
    "        out | float | probability of given ticket to win the jackpot prize\n",
    "    \"\"\"\n",
    "    prob = 1./combinations(49,6)\n",
    "    s = \"The probability of the ticket {ticket} winning the jackpot is {prob:%}\\n\" \\\n",
    "        \"This is equivalent to winning 1 time in {odds:,} tries.\"\n",
    "    return s.format(ticket=lst, prob=prob, odds=combinations(49,6))"
   ]
  },
  {
   "cell_type": "code",
   "execution_count": 3,
   "metadata": {},
   "outputs": [
    {
     "name": "stdout",
     "output_type": "stream",
     "text": [
      "The probability of the ticket [13, 20, 36, 10, 41, 3] winning the jackpot is 0.000007%\n",
      "This is equivalent to winning 1 time in 13,983,816.0 tries.\n"
     ]
    }
   ],
   "source": [
    "# testing function with some random inputs\n",
    "import random\n",
    "ticket = [random.randint(1,49) for k in range(6)]\n",
    "print(one_ticket_prob(ticket))"
   ]
  },
  {
   "cell_type": "markdown",
   "metadata": {},
   "source": [
    "## Comparing ticket to historical data\n",
    "\n",
    "Our next objective is to write a function that is able to compare a given ticket with historical data of prize drawings to check if those specific numbers have ever won."
   ]
  },
  {
   "cell_type": "code",
   "execution_count": 4,
   "metadata": {},
   "outputs": [
    {
     "data": {
      "text/html": [
       "<div>\n",
       "<style scoped>\n",
       "    .dataframe tbody tr th:only-of-type {\n",
       "        vertical-align: middle;\n",
       "    }\n",
       "\n",
       "    .dataframe tbody tr th {\n",
       "        vertical-align: top;\n",
       "    }\n",
       "\n",
       "    .dataframe thead th {\n",
       "        text-align: right;\n",
       "    }\n",
       "</style>\n",
       "<table border=\"1\" class=\"dataframe\">\n",
       "  <thead>\n",
       "    <tr style=\"text-align: right;\">\n",
       "      <th></th>\n",
       "      <th>PRODUCT</th>\n",
       "      <th>DRAW NUMBER</th>\n",
       "      <th>SEQUENCE NUMBER</th>\n",
       "      <th>DRAW DATE</th>\n",
       "      <th>NUMBER DRAWN 1</th>\n",
       "      <th>NUMBER DRAWN 2</th>\n",
       "      <th>NUMBER DRAWN 3</th>\n",
       "      <th>NUMBER DRAWN 4</th>\n",
       "      <th>NUMBER DRAWN 5</th>\n",
       "      <th>NUMBER DRAWN 6</th>\n",
       "      <th>BONUS NUMBER</th>\n",
       "    </tr>\n",
       "  </thead>\n",
       "  <tbody>\n",
       "    <tr>\n",
       "      <td>0</td>\n",
       "      <td>649</td>\n",
       "      <td>1</td>\n",
       "      <td>0</td>\n",
       "      <td>6/12/1982</td>\n",
       "      <td>3</td>\n",
       "      <td>11</td>\n",
       "      <td>12</td>\n",
       "      <td>14</td>\n",
       "      <td>41</td>\n",
       "      <td>43</td>\n",
       "      <td>13</td>\n",
       "    </tr>\n",
       "    <tr>\n",
       "      <td>1</td>\n",
       "      <td>649</td>\n",
       "      <td>2</td>\n",
       "      <td>0</td>\n",
       "      <td>6/19/1982</td>\n",
       "      <td>8</td>\n",
       "      <td>33</td>\n",
       "      <td>36</td>\n",
       "      <td>37</td>\n",
       "      <td>39</td>\n",
       "      <td>41</td>\n",
       "      <td>9</td>\n",
       "    </tr>\n",
       "    <tr>\n",
       "      <td>2</td>\n",
       "      <td>649</td>\n",
       "      <td>3</td>\n",
       "      <td>0</td>\n",
       "      <td>6/26/1982</td>\n",
       "      <td>1</td>\n",
       "      <td>6</td>\n",
       "      <td>23</td>\n",
       "      <td>24</td>\n",
       "      <td>27</td>\n",
       "      <td>39</td>\n",
       "      <td>34</td>\n",
       "    </tr>\n",
       "    <tr>\n",
       "      <td>3</td>\n",
       "      <td>649</td>\n",
       "      <td>4</td>\n",
       "      <td>0</td>\n",
       "      <td>7/3/1982</td>\n",
       "      <td>3</td>\n",
       "      <td>9</td>\n",
       "      <td>10</td>\n",
       "      <td>13</td>\n",
       "      <td>20</td>\n",
       "      <td>43</td>\n",
       "      <td>34</td>\n",
       "    </tr>\n",
       "    <tr>\n",
       "      <td>4</td>\n",
       "      <td>649</td>\n",
       "      <td>5</td>\n",
       "      <td>0</td>\n",
       "      <td>7/10/1982</td>\n",
       "      <td>5</td>\n",
       "      <td>14</td>\n",
       "      <td>21</td>\n",
       "      <td>31</td>\n",
       "      <td>34</td>\n",
       "      <td>47</td>\n",
       "      <td>45</td>\n",
       "    </tr>\n",
       "  </tbody>\n",
       "</table>\n",
       "</div>"
      ],
      "text/plain": [
       "   PRODUCT  DRAW NUMBER  SEQUENCE NUMBER  DRAW DATE  NUMBER DRAWN 1  \\\n",
       "0      649            1                0  6/12/1982               3   \n",
       "1      649            2                0  6/19/1982               8   \n",
       "2      649            3                0  6/26/1982               1   \n",
       "3      649            4                0   7/3/1982               3   \n",
       "4      649            5                0  7/10/1982               5   \n",
       "\n",
       "   NUMBER DRAWN 2  NUMBER DRAWN 3  NUMBER DRAWN 4  NUMBER DRAWN 5  \\\n",
       "0              11              12              14              41   \n",
       "1              33              36              37              39   \n",
       "2               6              23              24              27   \n",
       "3               9              10              13              20   \n",
       "4              14              21              31              34   \n",
       "\n",
       "   NUMBER DRAWN 6  BONUS NUMBER  \n",
       "0              43            13  \n",
       "1              41             9  \n",
       "2              39            34  \n",
       "3              43            34  \n",
       "4              47            45  "
      ]
     },
     "execution_count": 4,
     "metadata": {},
     "output_type": "execute_result"
    }
   ],
   "source": [
    "import pandas as pd\n",
    "\n",
    "data = pd.read_csv('649.csv')\n",
    "data.head()"
   ]
  },
  {
   "cell_type": "code",
   "execution_count": 5,
   "metadata": {},
   "outputs": [
    {
     "name": "stdout",
     "output_type": "stream",
     "text": [
      "<class 'pandas.core.frame.DataFrame'>\n",
      "RangeIndex: 3665 entries, 0 to 3664\n",
      "Data columns (total 11 columns):\n",
      "PRODUCT            3665 non-null int64\n",
      "DRAW NUMBER        3665 non-null int64\n",
      "SEQUENCE NUMBER    3665 non-null int64\n",
      "DRAW DATE          3665 non-null object\n",
      "NUMBER DRAWN 1     3665 non-null int64\n",
      "NUMBER DRAWN 2     3665 non-null int64\n",
      "NUMBER DRAWN 3     3665 non-null int64\n",
      "NUMBER DRAWN 4     3665 non-null int64\n",
      "NUMBER DRAWN 5     3665 non-null int64\n",
      "NUMBER DRAWN 6     3665 non-null int64\n",
      "BONUS NUMBER       3665 non-null int64\n",
      "dtypes: int64(10), object(1)\n",
      "memory usage: 315.1+ KB\n"
     ]
    }
   ],
   "source": [
    "data.info()"
   ]
  },
  {
   "cell_type": "markdown",
   "metadata": {},
   "source": [
    "From the data description, we know this is already a pretty clean dataset since there are no missing values in any of the columns. Of particular interest for us are the `NUMBER DRAWN [K]` where `1<=K<=6` represents each number drawn for a given lottery."
   ]
  },
  {
   "cell_type": "code",
   "execution_count": 6,
   "metadata": {},
   "outputs": [
    {
     "data": {
      "text/plain": [
       "0    {3, 41, 11, 12, 43, 14}\n",
       "1    {33, 36, 37, 39, 8, 41}\n",
       "2     {1, 6, 39, 23, 24, 27}\n",
       "3     {3, 9, 10, 43, 13, 20}\n",
       "4    {34, 5, 14, 47, 21, 31}\n",
       "dtype: object"
      ]
     },
     "execution_count": 6,
     "metadata": {},
     "output_type": "execute_result"
    }
   ],
   "source": [
    "def extract_draws(row: pd.core.series.Series) -> set:\n",
    "    \"\"\"\n",
    "    Extracts the winning numbers from a single lottery drawing.\n",
    "    Inputs:\n",
    "        row | pd.Series | pandas series containing data indexed by \"NUMBER DRAWN [K]\" where 1<=K<=6\n",
    "    Returns:\n",
    "        out | set | set conntaining winning draws as integers\n",
    "    \"\"\"\n",
    "    return {row[\"NUMBER DRAWN {val}\".format(val=k+1)] for k in range(6)}\n",
    "\n",
    "winning_draws = data.apply(extract_draws, axis=1)\n",
    "winning_draws.head()"
   ]
  },
  {
   "cell_type": "code",
   "execution_count": 7,
   "metadata": {},
   "outputs": [],
   "source": [
    "def check_ticket_historical(ticket: list, winning_draws: pd.core.series.Series) -> str:\n",
    "    \"\"\"\n",
    "    Checks given ticket against historical data to see if ticket numbers have ever won before.\n",
    "    Inputs:\n",
    "        ticket | list | list of integers representing desired ticket\n",
    "        winning_draws | pd.core.series.Series | pandas series containing winning historical ticket data stored as sets\n",
    "    Returns:\n",
    "        out | str | string to display information about ticket's historical winnings\n",
    "    \"\"\"\n",
    "    ticket_set = set(ticket)\n",
    "    cond = winning_draws == ticket_set\n",
    "    count_of_wins = cond.sum()\n",
    "    s = \"The ticket {ticket} has won a total of {wins} times in the past.\".format(ticket=ticket, wins=count_of_wins)\n",
    "    if not count_of_wins:\n",
    "        s += \"\\nDespite never winning before, \" + one_ticket_prob(ticket)\n",
    "    return s"
   ]
  },
  {
   "cell_type": "code",
   "execution_count": 8,
   "metadata": {},
   "outputs": [
    {
     "name": "stdout",
     "output_type": "stream",
     "text": [
      "The ticket [28, 26, 13, 37, 44, 18] has won a total of 0 times in the past.\n",
      "Despite never winning before, The probability of the ticket [28, 26, 13, 37, 44, 18] winning the jackpot is 0.000007%\n",
      "This is equivalent to winning 1 time in 13,983,816.0 tries.\n"
     ]
    }
   ],
   "source": [
    "ticket = [random.randint(1,49) for k in range(6)]\n",
    "print(check_ticket_historical(ticket, winning_draws))"
   ]
  },
  {
   "cell_type": "markdown",
   "metadata": {},
   "source": [
    "## Multi-ticket probabilities\n",
    "\n",
    "Lottery players usually purchase more than one ticket for a single drawing to help improve their chances of winning. Our next objective is to write a function that calculates the probability of winning the draw for any number of distinct tickets.\n",
    "\n",
    "Note that the maximum number of distinct tickets allowable for a single draw is `combinations(49,6) = 13,983,816`."
   ]
  },
  {
   "cell_type": "code",
   "execution_count": 9,
   "metadata": {},
   "outputs": [],
   "source": [
    "def multi_ticket_prob(n_tickets: int) -> str:\n",
    "    \"\"\"\n",
    "    Calculates the probability of winning the draw given a number n_tickets of distinct tickets.\n",
    "    Inputs:\n",
    "        n_tickets | int | number of winning tickets for this drawing\n",
    "    Returns:\n",
    "        out | str | string to display information about probability of winning\n",
    "    \"\"\"\n",
    "    assert n_tickets>=0, \"n_tickets must be at least 0\"\n",
    "    \n",
    "    combos = combinations(49,6)\n",
    "    assert n_tickets<=combos, \"n_tickets cannot be larger than {}\".format(combos)\n",
    "    \n",
    "    prob = n_tickets/combos\n",
    "    s = \"The probability of the {n_tickets} ticket(s) winning the jackpot is {prob:%}\\n\" \\\n",
    "        \"This is equivalent to winning 1 time in {odds:,} tries.\".format(n_tickets=n_tickets, prob=prob, odds=round(1/prob))\n",
    "    return s"
   ]
  },
  {
   "cell_type": "code",
   "execution_count": 11,
   "metadata": {},
   "outputs": [
    {
     "name": "stdout",
     "output_type": "stream",
     "text": [
      "The probability of the 1 ticket(s) winning the jackpot is 0.000007%\n",
      "This is equivalent to winning 1 time in 13,983,816 tries.\n",
      "\n",
      "The probability of the 10 ticket(s) winning the jackpot is 0.000072%\n",
      "This is equivalent to winning 1 time in 1,398,382 tries.\n",
      "\n",
      "The probability of the 100 ticket(s) winning the jackpot is 0.000715%\n",
      "This is equivalent to winning 1 time in 139,838 tries.\n",
      "\n",
      "The probability of the 10000 ticket(s) winning the jackpot is 0.071511%\n",
      "This is equivalent to winning 1 time in 1,398 tries.\n",
      "\n",
      "The probability of the 1000000 ticket(s) winning the jackpot is 7.151124%\n",
      "This is equivalent to winning 1 time in 14 tries.\n",
      "\n",
      "The probability of the 6991908 ticket(s) winning the jackpot is 50.000000%\n",
      "This is equivalent to winning 1 time in 2 tries.\n",
      "\n",
      "The probability of the 13983816 ticket(s) winning the jackpot is 100.000000%\n",
      "This is equivalent to winning 1 time in 1 tries.\n",
      "\n"
     ]
    }
   ],
   "source": [
    "test_inputs = [1, 10, 100, 10000, 1000000, 6991908, 13983816]\n",
    "for val in test_inputs:\n",
    "    print(multi_ticket_prob(val)+\"\\n\")"
   ]
  },
  {
   "cell_type": "markdown",
   "metadata": {},
   "source": [
    "## Minor prize winning probabilities\n",
    "\n",
    "In addition to the jackpot prize awarded for matching all 6 of the drawn numbers, there are smaller prizes for matching a subset of 2, 3, 4, or 5 numbers drawn. These minor awards are designed to help smooth over the \"all or nothing\" mindset a potential gambler might see. As a consequence, users might be interested in knowing the probability of having two, three, four, or five winning numbers.\n",
    "\n",
    "To determine the number of successes for matching `m` numbers on a ticket note that there are `C(6,m)` possible subtickets. For each of these possible subtickets, there are `C(49-6, 6-m)` remaining ways to fill the last `6-m` slots in the ticket. In particular, we use `49-6 = 43` possible numbers because if one of the remaining digits is already on our ticket, that would make the ticket match `m+1` numbers, rather than the desired `m` numbers."
   ]
  },
  {
   "cell_type": "code",
   "execution_count": 15,
   "metadata": {},
   "outputs": [],
   "source": [
    "def minor_prize_prob(ticket: list, m: int) -> str:\n",
    "    \"\"\"\n",
    "    Calculates the probability of winning a minor prize by matching 2<=m<=5 numbers to the winning draw, rather than the full 6.\n",
    "    Inputs:\n",
    "        ticket | list (int) | specific ticket to check against\n",
    "        m | int | number of matches required to win, note this calculates the probability of matching exactly m numbers from the winning draw\n",
    "    Returns:\n",
    "        out | str | string to display information about probability of winning\n",
    "    \"\"\"\n",
    "    assert m>=2, \"m must be at least 2 matches\"\n",
    "    if m==len(ticket): return one_ticket_prob(ticket)\n",
    "    \n",
    "    combos = combinations(49,6)\n",
    "    successes = combinations(6, m)*combinations(49-6, 6-m)\n",
    "    prob = successes/combos\n",
    "    s = \"The probability of the {ticket} winning a minor prize by matching {m} numbers is {prob:%}\\n\" \\\n",
    "        \"This is equivalent to winning 1 time in {odds:,} tries.\".format(ticket=ticket, m=m, prob=prob, odds=round(1/prob))\n",
    "    \n",
    "    return s"
   ]
  },
  {
   "cell_type": "code",
   "execution_count": 16,
   "metadata": {},
   "outputs": [
    {
     "name": "stdout",
     "output_type": "stream",
     "text": [
      "The probability of the [32, 20, 16, 21, 10, 43] winning a minor prize by matching 2 numbers is 13.237803%\n",
      "This is equivalent to winning 1 time in 8 tries.\n",
      "\n",
      "The probability of the [32, 20, 16, 21, 10, 43] winning a minor prize by matching 3 numbers is 1.765040%\n",
      "This is equivalent to winning 1 time in 57 tries.\n",
      "\n",
      "The probability of the [32, 20, 16, 21, 10, 43] winning a minor prize by matching 4 numbers is 0.096862%\n",
      "This is equivalent to winning 1 time in 1,032 tries.\n",
      "\n",
      "The probability of the [32, 20, 16, 21, 10, 43] winning a minor prize by matching 5 numbers is 0.001845%\n",
      "This is equivalent to winning 1 time in 54,201 tries.\n",
      "\n"
     ]
    }
   ],
   "source": [
    "test_matches  = [2,3,4,5]\n",
    "ticket = [random.randint(1,49) for k in range(6)]\n",
    "for val in test_matches:\n",
    "    print(minor_prize_prob(ticket, val)+\"\\n\")"
   ]
  },
  {
   "cell_type": "code",
   "execution_count": null,
   "metadata": {},
   "outputs": [],
   "source": []
  }
 ],
 "metadata": {
  "kernelspec": {
   "display_name": "Python 3",
   "language": "python",
   "name": "python3"
  },
  "language_info": {
   "codemirror_mode": {
    "name": "ipython",
    "version": 3
   },
   "file_extension": ".py",
   "mimetype": "text/x-python",
   "name": "python",
   "nbconvert_exporter": "python",
   "pygments_lexer": "ipython3",
   "version": "3.7.4"
  }
 },
 "nbformat": 4,
 "nbformat_minor": 2
}
