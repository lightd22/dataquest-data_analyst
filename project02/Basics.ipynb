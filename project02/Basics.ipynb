{
 "cells": [
  {
   "cell_type": "markdown",
   "metadata": {
    "collapsed": true
   },
   "source": [
    "# Exploring Hacker News Posts\n",
    "Hacker News is a site started by the startup incubator Y Combinator, where user-submitted stories (known as \"posts\") are voted and commented upon, similar to reddit. Hacker News (HN) is extremely popular in technology and startup circles, and posts that make it to the top of Hacker News' listings can get hundreds of thousands of visitors as a result.\n",
    "\n",
    "You can find the data set [here](https://www.kaggle.com/hacker-news/hacker-news-posts), but note that it has been reduced from almost 300,000 rows to approximately 20,000 rows by removing all submissions that did not receive any comments, and then randomly sampling from the remaining submissions. Below are descriptions of the columns:\n",
    "\n",
    "- id: The unique identifier from Hacker News for the post\n",
    "- title: The title of the post\n",
    "- url: The URL that the posts links to, if the post has a URL\n",
    "- num_points: The number of points the post acquired, calculated as the total number of upvotes minus the total number of downvotes\n",
    "- num_comments: The number of comments that were made on the post\n",
    "- author: The username of the person who submitted the post\n",
    "- created_at: The date and time at which the post was submitted\n",
    "\n",
    "Let's look at two interesting sub-types of posts on HN: Ask HN and Show HN. Ask HN posts are posts made by users to ask the HN community about a specific question. For example:\n",
    "```\n",
    "Ask HN: How to improve my personal website?\n",
    "Ask HN: Am I the only one outraged by Twitter shutting down share counts?\n",
    "Ask HN: Aby recent changes to CSS that broke mobile?\n",
    "```\n",
    "Conversely, Show HN posts are made by users to showcase a project, product, or something else of interest. Here are a few examples of Show HN posts:\n",
    "```\n",
    "Show HN: Wio Link  ESP8266 Based Web of Things Hardware Development Platform'\n",
    "Show HN: Something pointless I made\n",
    "Show HN: Shanhu.io, a programming playground powered by e8vm\n",
    "```\n",
    "\n",
    "Our inital objective will be to examine these two types of posts and compare them. We'll try to answer questions like:\n",
    "- Which type of posts recieves more comments on average?\n",
    "- Which type of posts recieves more points on average?\n",
    "- Do posts created within a specific time window recieve more comments on average?"
   ]
  },
  {
   "cell_type": "code",
   "execution_count": 1,
   "metadata": {
    "collapsed": true
   },
   "outputs": [],
   "source": [
    "import pandas as pd\n",
    "import csv"
   ]
  },
  {
   "cell_type": "code",
   "execution_count": 2,
   "metadata": {
    "collapsed": false
   },
   "outputs": [
    {
     "data": {
      "text/html": [
       "<div>\n",
       "<style scoped>\n",
       "    .dataframe tbody tr th:only-of-type {\n",
       "        vertical-align: middle;\n",
       "    }\n",
       "\n",
       "    .dataframe tbody tr th {\n",
       "        vertical-align: top;\n",
       "    }\n",
       "\n",
       "    .dataframe thead th {\n",
       "        text-align: right;\n",
       "    }\n",
       "</style>\n",
       "<table border=\"1\" class=\"dataframe\">\n",
       "  <thead>\n",
       "    <tr style=\"text-align: right;\">\n",
       "      <th></th>\n",
       "      <th>id</th>\n",
       "      <th>title</th>\n",
       "      <th>url</th>\n",
       "      <th>num_points</th>\n",
       "      <th>num_comments</th>\n",
       "      <th>author</th>\n",
       "      <th>created_at</th>\n",
       "    </tr>\n",
       "  </thead>\n",
       "  <tbody>\n",
       "    <tr>\n",
       "      <th>0</th>\n",
       "      <td>12224879</td>\n",
       "      <td>Interactive Dynamic Video</td>\n",
       "      <td>http://www.interactivedynamicvideo.com/</td>\n",
       "      <td>386</td>\n",
       "      <td>52</td>\n",
       "      <td>ne0phyte</td>\n",
       "      <td>8/4/2016 11:52</td>\n",
       "    </tr>\n",
       "    <tr>\n",
       "      <th>1</th>\n",
       "      <td>10975351</td>\n",
       "      <td>How to Use Open Source and Shut the Fuck Up at...</td>\n",
       "      <td>http://hueniverse.com/2016/01/26/how-to-use-op...</td>\n",
       "      <td>39</td>\n",
       "      <td>10</td>\n",
       "      <td>josep2</td>\n",
       "      <td>1/26/2016 19:30</td>\n",
       "    </tr>\n",
       "    <tr>\n",
       "      <th>2</th>\n",
       "      <td>11964716</td>\n",
       "      <td>Florida DJs May Face Felony for April Fools' W...</td>\n",
       "      <td>http://www.thewire.com/entertainment/2013/04/f...</td>\n",
       "      <td>2</td>\n",
       "      <td>1</td>\n",
       "      <td>vezycash</td>\n",
       "      <td>6/23/2016 22:20</td>\n",
       "    </tr>\n",
       "    <tr>\n",
       "      <th>3</th>\n",
       "      <td>11919867</td>\n",
       "      <td>Technology ventures: From Idea to Enterprise</td>\n",
       "      <td>https://www.amazon.com/Technology-Ventures-Ent...</td>\n",
       "      <td>3</td>\n",
       "      <td>1</td>\n",
       "      <td>hswarna</td>\n",
       "      <td>6/17/2016 0:01</td>\n",
       "    </tr>\n",
       "    <tr>\n",
       "      <th>4</th>\n",
       "      <td>10301696</td>\n",
       "      <td>Note by Note: The Making of Steinway L1037 (2007)</td>\n",
       "      <td>http://www.nytimes.com/2007/11/07/movies/07ste...</td>\n",
       "      <td>8</td>\n",
       "      <td>2</td>\n",
       "      <td>walterbell</td>\n",
       "      <td>9/30/2015 4:12</td>\n",
       "    </tr>\n",
       "  </tbody>\n",
       "</table>\n",
       "</div>"
      ],
      "text/plain": [
       "         id                                              title  \\\n",
       "0  12224879                          Interactive Dynamic Video   \n",
       "1  10975351  How to Use Open Source and Shut the Fuck Up at...   \n",
       "2  11964716  Florida DJs May Face Felony for April Fools' W...   \n",
       "3  11919867       Technology ventures: From Idea to Enterprise   \n",
       "4  10301696  Note by Note: The Making of Steinway L1037 (2007)   \n",
       "\n",
       "                                                 url  num_points  \\\n",
       "0            http://www.interactivedynamicvideo.com/         386   \n",
       "1  http://hueniverse.com/2016/01/26/how-to-use-op...          39   \n",
       "2  http://www.thewire.com/entertainment/2013/04/f...           2   \n",
       "3  https://www.amazon.com/Technology-Ventures-Ent...           3   \n",
       "4  http://www.nytimes.com/2007/11/07/movies/07ste...           8   \n",
       "\n",
       "   num_comments      author       created_at  \n",
       "0            52    ne0phyte   8/4/2016 11:52  \n",
       "1            10      josep2  1/26/2016 19:30  \n",
       "2             1    vezycash  6/23/2016 22:20  \n",
       "3             1     hswarna   6/17/2016 0:01  \n",
       "4             2  walterbell   9/30/2015 4:12  "
      ]
     },
     "execution_count": 2,
     "metadata": {},
     "output_type": "execute_result"
    }
   ],
   "source": [
    "with open('hacker_news.csv') as file:\n",
    "    raw_dframe = pd.read_csv(file)\n",
    "    \n",
    "headers = list(raw_dframe.columns)\n",
    "raw_dframe.head()"
   ]
  },
  {
   "cell_type": "code",
   "execution_count": 3,
   "metadata": {
    "collapsed": false
   },
   "outputs": [],
   "source": [
    "# Filter and separate Ask HN and Show HN posts\n",
    "\n",
    "criteria_ask = raw_dframe['title'].map(lambda s: s.lower().startswith('ask hn'))\n",
    "askhn_dframe = raw_dframe[criteria_ask].copy()\n",
    "\n",
    "criteria_show = raw_dframe['title'].map(lambda s: s.lower().startswith('show hn'))\n",
    "showhn_dframe = raw_dframe[criteria_show].copy()\n",
    "\n",
    "criteria_other = (~criteria_ask) & (~criteria_show)\n",
    "other_dframe = raw_dframe[criteria_other].copy()\n",
    "\n",
    "# Dictionary of different dframes for convienence\n",
    "dframe_dict = {\"askhn\": askhn_dframe, \"showhn\":showhn_dframe, \"other\":other_dframe}"
   ]
  },
  {
   "cell_type": "markdown",
   "metadata": {},
   "source": [
    "Now lets look at some basic information about these types of posts:"
   ]
  },
  {
   "cell_type": "code",
   "execution_count": 4,
   "metadata": {
    "collapsed": false
   },
   "outputs": [
    {
     "name": "stdout",
     "output_type": "stream",
     "text": [
      "There are 1744 posts in Ask HN.\n",
      "There are 1162 posts in Show HN.\n",
      "There are 17194 posts in Other.\n",
      "***\n",
      "Average number of comments on Ask HN posts: 14.04\n",
      "Average number of comments on Show HN posts: 10.32\n",
      "Average number of comments on Other posts: 26.87\n"
     ]
    }
   ],
   "source": [
    "# Count number of posts\n",
    "s = \"There are {count} posts in {name}.\"\n",
    "print(s.format(count=len(dframe_dict[\"askhn\"].index), name='Ask HN'))\n",
    "print(s.format(count=len(dframe_dict[\"showhn\"].index), name='Show HN'))\n",
    "print(s.format(count=len(dframe_dict[\"other\"].index), name='Other'))\n",
    "\n",
    "# Average number of comments\n",
    "total_ask_comments = dframe_dict[\"askhn\"][\"num_comments\"].sum()\n",
    "total_show_comments = dframe_dict[\"showhn\"][\"num_comments\"].sum()\n",
    "total_other_comments = dframe_dict[\"other\"][\"num_comments\"].sum()\n",
    "\n",
    "avg_ask_comments = total_ask_comments/len(dframe_dict[\"askhn\"].index)\n",
    "avg_show_comments = total_show_comments/len(dframe_dict[\"showhn\"].index)\n",
    "avg_other_comments = total_other_comments/len(dframe_dict[\"other\"].index)\n",
    "\n",
    "print(\"***\")\n",
    "s = \"Average number of comments on {name} posts: {avg:.2f}\"\n",
    "print(s.format(name='Ask HN', avg=avg_ask_comments))\n",
    "print(s.format(name='Show HN', avg=avg_show_comments))\n",
    "print(s.format(name='Other', avg=avg_other_comments))\n"
   ]
  },
  {
   "cell_type": "markdown",
   "metadata": {},
   "source": [
    "From this early investigation, it looks like the average number of comments recieved is larger for Ask HN posts compared to Show HN posts, by almost 40% in this dataset! Note that this is just an early exploratory analysis, to really confirm that Ask HN posts actually recieve more comments we would need to perform a more rigorous statistical test of significance.\n",
    "\n",
    "Next, we'll look at the times at which posts are made and see if there's any difference in how many comments they attract. We'll do this by:\n",
    "1. Binning `Ask HN` posts made by hour\n",
    "2. Calculating the average number of comments for posts made within each hourly bin"
   ]
  },
  {
   "cell_type": "code",
   "execution_count": 26,
   "metadata": {
    "collapsed": false
   },
   "outputs": [
    {
     "name": "stdout",
     "output_type": "stream",
     "text": [
      "For hour  0, there were  55 posts in Ask HN with an average of 8.13 comments.\n",
      "For hour  1, there were  60 posts in Ask HN with an average of 11.38 comments.\n",
      "For hour  2, there were  58 posts in Ask HN with an average of 23.81 comments.\n",
      "For hour  3, there were  54 posts in Ask HN with an average of 7.80 comments.\n",
      "For hour  4, there were  47 posts in Ask HN with an average of 7.17 comments.\n",
      "For hour  5, there were  46 posts in Ask HN with an average of 10.09 comments.\n",
      "For hour  6, there were  44 posts in Ask HN with an average of 9.02 comments.\n",
      "For hour  7, there were  34 posts in Ask HN with an average of 7.85 comments.\n",
      "For hour  8, there were  48 posts in Ask HN with an average of 10.25 comments.\n",
      "For hour  9, there were  45 posts in Ask HN with an average of 5.58 comments.\n",
      "For hour 10, there were  59 posts in Ask HN with an average of 13.44 comments.\n",
      "For hour 11, there were  58 posts in Ask HN with an average of 11.05 comments.\n",
      "For hour 12, there were  73 posts in Ask HN with an average of 9.41 comments.\n",
      "For hour 13, there were  85 posts in Ask HN with an average of 14.74 comments.\n",
      "For hour 14, there were 107 posts in Ask HN with an average of 13.23 comments.\n",
      "For hour 15, there were 116 posts in Ask HN with an average of 38.59 comments.\n",
      "For hour 16, there were 108 posts in Ask HN with an average of 16.80 comments.\n",
      "For hour 17, there were 100 posts in Ask HN with an average of 11.46 comments.\n",
      "For hour 18, there were 109 posts in Ask HN with an average of 13.20 comments.\n",
      "For hour 19, there were 110 posts in Ask HN with an average of 10.80 comments.\n",
      "For hour 20, there were  80 posts in Ask HN with an average of 21.52 comments.\n",
      "For hour 21, there were 109 posts in Ask HN with an average of 16.01 comments.\n",
      "For hour 22, there were  71 posts in Ask HN with an average of 6.75 comments.\n",
      "For hour 23, there were  68 posts in Ask HN with an average of 7.99 comments.\n"
     ]
    }
   ],
   "source": [
    "# Convert created_at column to dtime\n",
    "format_str = \"%m/%d/%Y %H:%M\"\n",
    "dframe_dict['askhn']['created_at'] = pd.to_datetime(dframe_dict['askhn']['created_at'], format=format_str)\n",
    "\n",
    "dframe = dframe_dict['askhn']\n",
    "counts_by_hour = {}\n",
    "comments_by_hour = {}\n",
    "\n",
    "for hour in range(0,24):\n",
    "    criteria = dframe['created_at'].dt.hour == hour\n",
    "    result = dframe[criteria]\n",
    "    \n",
    "    counts_by_hour[hour] = len(result.index)\n",
    "    comments_by_hour[hour] = result['num_comments'].mean()\n",
    "\n",
    "s = \"For hour {hour:2}, there were {count:3} posts in Ask HN with an average of {mean:.2f} comments.\"\n",
    "for hour in sorted(counts_by_hour.keys()):\n",
    "    print(s.format(hour=hour, count=counts_by_hour[hour], mean=comments_by_hour[hour]))"
   ]
  },
  {
   "cell_type": "code",
   "execution_count": 28,
   "metadata": {
    "collapsed": false
   },
   "outputs": [
    {
     "name": "stdout",
     "output_type": "stream",
     "text": [
      "15:00: 38.59 average comments per post\n",
      "2:00: 23.81 average comments per post\n",
      "20:00: 21.52 average comments per post\n",
      "16:00: 16.80 average comments per post\n",
      "21:00: 16.01 average comments per post\n"
     ]
    }
   ],
   "source": [
    "avg_by_hour = [ [k,v] for k,v in sorted(comments_by_hour.items(), key=lambda item: item[1], reverse=True)]\n",
    "s = \"{hr}:00: {mean:.2f} average comments per post\"\n",
    "for hr,mean in avg_by_hour[:5]:\n",
    "    print(s.format(hr=hr, mean=mean))"
   ]
  },
  {
   "cell_type": "markdown",
   "metadata": {},
   "source": [
    "The hour recieving the most comm"
   ]
  }
 ],
 "metadata": {
  "kernelspec": {
   "display_name": "Python 3",
   "language": "python",
   "name": "python3"
  },
  "language_info": {
   "codemirror_mode": {
    "name": "ipython",
    "version": 3
   },
   "file_extension": ".py",
   "mimetype": "text/x-python",
   "name": "python",
   "nbconvert_exporter": "python",
   "pygments_lexer": "ipython3",
   "version": "3.4.3"
  }
 },
 "nbformat": 4,
 "nbformat_minor": 2
}
